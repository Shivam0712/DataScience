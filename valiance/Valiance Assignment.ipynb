{
 "cells": [
  {
   "cell_type": "code",
   "execution_count": 1,
   "metadata": {
    "collapsed": false
   },
   "outputs": [
    {
     "data": {
      "application/javascript": [
       "IPython.notebook.set_autosave_interval(300000)"
      ]
     },
     "metadata": {},
     "output_type": "display_data"
    },
    {
     "name": "stdout",
     "output_type": "stream",
     "text": [
      "Autosaving every 300 seconds\n"
     ]
    }
   ],
   "source": [
    "%autosave 300"
   ]
  },
  {
   "cell_type": "code",
   "execution_count": 2,
   "metadata": {
    "collapsed": false
   },
   "outputs": [
    {
     "name": "stderr",
     "output_type": "stream",
     "text": [
      "C:\\Users\\Samsung\\Anaconda2\\lib\\site-packages\\matplotlib\\__init__.py:913: UserWarning: axes.color_cycle is deprecated and replaced with axes.prop_cycle; please use the latter.\n",
      "  warnings.warn(self.msg_depr % (key, alt_key))\n"
     ]
    }
   ],
   "source": [
    "%matplotlib inline\n",
    "import json\n",
    "import numpy as np\n",
    "import pandas as pd\n",
    "import scipy\n",
    "import networkx as nx\n",
    "import matplotlib.pyplot as plt\n",
    "\n",
    "# set some nicer defaults for matplotlib\n",
    "from matplotlib import rcParams\n",
    "\n",
    "#these colors come from colorbrewer2.org. Each is an RGB triplet\n",
    "dark2_colors = [(0.10588235294117647, 0.6196078431372549, 0.4666666666666667),\n",
    "                (0.8509803921568627, 0.37254901960784315, 0.00784313725490196),\n",
    "                (0.4588235294117647, 0.4392156862745098, 0.7019607843137254),\n",
    "                (0.9058823529411765, 0.1607843137254902, 0.5411764705882353),\n",
    "                (0.4, 0.6509803921568628, 0.11764705882352941),\n",
    "                (0.9019607843137255, 0.6705882352941176, 0.00784313725490196),\n",
    "                (0.6509803921568628, 0.4627450980392157, 0.11372549019607843),\n",
    "                (0.4, 0.4, 0.4)]\n",
    "\n",
    "rcParams['figure.figsize'] = (20, 15)\n",
    "rcParams['figure.dpi'] = 150\n",
    "rcParams['axes.color_cycle'] = dark2_colors\n",
    "rcParams['lines.linewidth'] = 2\n",
    "rcParams['axes.grid'] = False\n",
    "rcParams['axes.facecolor'] = 'white'\n",
    "rcParams['font.size'] = 14\n",
    "rcParams['patch.edgecolor'] = 'none'\n",
    "\n",
    "def remove_border(axes=None, top=False, right=False, left=True, bottom=True):\n",
    "    \"\"\"\n",
    "    Minimize chartjunk by stripping out unnecessary plot borders and axis ticks\n",
    "    \n",
    "    The top/right/left/bottom keywords toggle whether the corresponding plot border is drawn\n",
    "    \"\"\"\n",
    "    ax = axes or plt.gca()\n",
    "    ax.spines['top'].set_visible(top)\n",
    "    ax.spines['right'].set_visible(right)\n",
    "    ax.spines['left'].set_visible(left)\n",
    "    ax.spines['bottom'].set_visible(bottom)\n",
    "    \n",
    "    #turn off all ticks\n",
    "    ax.yaxis.set_ticks_position('none')\n",
    "    ax.xaxis.set_ticks_position('none')\n",
    "    \n",
    "    #now re-enable visibles\n",
    "    if top:\n",
    "        ax.xaxis.tick_top()\n",
    "    if bottom:\n",
    "        ax.xaxis.tick_bottom()\n",
    "    if left:\n",
    "        ax.yaxis.tick_left()\n",
    "    if right:\n",
    "        ax.yaxis.tick_right()"
   ]
  },
  {
   "cell_type": "code",
   "execution_count": 3,
   "metadata": {
    "collapsed": true
   },
   "outputs": [],
   "source": [
    "# Load the data in dataframes\n",
    "user = pd.read_excel('user.xlsx')\n",
    "store = pd.read_excel('store.xlsx')"
   ]
  },
  {
   "cell_type": "code",
   "execution_count": 4,
   "metadata": {
    "collapsed": false
   },
   "outputs": [
    {
     "data": {
      "text/html": [
       "<div>\n",
       "<table border=\"1\" class=\"dataframe\">\n",
       "  <thead>\n",
       "    <tr style=\"text-align: right;\">\n",
       "      <th></th>\n",
       "      <th>First Name</th>\n",
       "      <th>Last Name</th>\n",
       "      <th>Ambassador</th>\n",
       "      <th>Professional</th>\n",
       "      <th>Address1</th>\n",
       "      <th>City</th>\n",
       "      <th>State</th>\n",
       "      <th>Country</th>\n",
       "      <th>Zip Code</th>\n",
       "      <th>Total Dollars Spent</th>\n",
       "      <th>Total Number of Orders</th>\n",
       "    </tr>\n",
       "  </thead>\n",
       "  <tbody>\n",
       "    <tr>\n",
       "      <th>0</th>\n",
       "      <td>dana</td>\n",
       "      <td>bratti</td>\n",
       "      <td>NaN</td>\n",
       "      <td>NaN</td>\n",
       "      <td>37 crandon st</td>\n",
       "      <td>melville</td>\n",
       "      <td>New York</td>\n",
       "      <td>United States</td>\n",
       "      <td>'11747</td>\n",
       "      <td>29.99</td>\n",
       "      <td>1</td>\n",
       "    </tr>\n",
       "    <tr>\n",
       "      <th>1</th>\n",
       "      <td>Marina</td>\n",
       "      <td>A. Gunst</td>\n",
       "      <td>NaN</td>\n",
       "      <td>NaN</td>\n",
       "      <td>7660 Thousand Oaks Dr</td>\n",
       "      <td>Lincoln</td>\n",
       "      <td>California</td>\n",
       "      <td>United States</td>\n",
       "      <td>'95648</td>\n",
       "      <td>354.62</td>\n",
       "      <td>2</td>\n",
       "    </tr>\n",
       "    <tr>\n",
       "      <th>2</th>\n",
       "      <td>Karen</td>\n",
       "      <td>Aalto</td>\n",
       "      <td>NaN</td>\n",
       "      <td>NaN</td>\n",
       "      <td>12 King St</td>\n",
       "      <td>Groveland</td>\n",
       "      <td>Massachusetts</td>\n",
       "      <td>United States</td>\n",
       "      <td>'01834</td>\n",
       "      <td>79.99</td>\n",
       "      <td>1</td>\n",
       "    </tr>\n",
       "    <tr>\n",
       "      <th>3</th>\n",
       "      <td>karen</td>\n",
       "      <td>Abbott</td>\n",
       "      <td>NaN</td>\n",
       "      <td>NaN</td>\n",
       "      <td>14008 overcreek pass</td>\n",
       "      <td>little rock</td>\n",
       "      <td>Arkansas</td>\n",
       "      <td>United States</td>\n",
       "      <td>'72211</td>\n",
       "      <td>239.97</td>\n",
       "      <td>1</td>\n",
       "    </tr>\n",
       "    <tr>\n",
       "      <th>4</th>\n",
       "      <td>Karen</td>\n",
       "      <td>Abbott</td>\n",
       "      <td>NaN</td>\n",
       "      <td>NaN</td>\n",
       "      <td>14008 overcreek pass</td>\n",
       "      <td>Little rock</td>\n",
       "      <td>Arkansas</td>\n",
       "      <td>United States</td>\n",
       "      <td>'72211</td>\n",
       "      <td>188.97</td>\n",
       "      <td>1</td>\n",
       "    </tr>\n",
       "  </tbody>\n",
       "</table>\n",
       "</div>"
      ],
      "text/plain": [
       "  First Name Last Name Ambassador Professional               Address1  \\\n",
       "0       dana    bratti        NaN          NaN          37 crandon st   \n",
       "1     Marina  A. Gunst        NaN          NaN  7660 Thousand Oaks Dr   \n",
       "2      Karen     Aalto        NaN          NaN             12 King St   \n",
       "3      karen    Abbott        NaN          NaN   14008 overcreek pass   \n",
       "4      Karen    Abbott        NaN          NaN   14008 overcreek pass   \n",
       "\n",
       "          City          State        Country Zip Code  Total Dollars Spent  \\\n",
       "0     melville       New York  United States   '11747                29.99   \n",
       "1      Lincoln     California  United States   '95648               354.62   \n",
       "2    Groveland  Massachusetts  United States   '01834                79.99   \n",
       "3  little rock       Arkansas  United States   '72211               239.97   \n",
       "4  Little rock       Arkansas  United States   '72211               188.97   \n",
       "\n",
       "   Total Number of Orders  \n",
       "0                       1  \n",
       "1                       2  \n",
       "2                       1  \n",
       "3                       1  \n",
       "4                       1  "
      ]
     },
     "execution_count": 4,
     "metadata": {},
     "output_type": "execute_result"
    }
   ],
   "source": [
    "user.head()"
   ]
  },
  {
   "cell_type": "markdown",
   "metadata": {},
   "source": [
    "### The zip code in user df seems to be not exactly as we'd like it to be with an **'** before the actual zip"
   ]
  },
  {
   "cell_type": "code",
   "execution_count": 5,
   "metadata": {
    "collapsed": false
   },
   "outputs": [
    {
     "data": {
      "text/html": [
       "<div>\n",
       "<table border=\"1\" class=\"dataframe\">\n",
       "  <thead>\n",
       "    <tr style=\"text-align: right;\">\n",
       "      <th></th>\n",
       "      <th>Store Name</th>\n",
       "      <th>Street Address</th>\n",
       "      <th>City</th>\n",
       "      <th>State</th>\n",
       "      <th>Zip Code</th>\n",
       "    </tr>\n",
       "  </thead>\n",
       "  <tbody>\n",
       "    <tr>\n",
       "      <th>0</th>\n",
       "      <td>Aerotech Designs</td>\n",
       "      <td>1132 4th Avenue</td>\n",
       "      <td>Coraopolis</td>\n",
       "      <td>PA</td>\n",
       "      <td>15108</td>\n",
       "    </tr>\n",
       "    <tr>\n",
       "      <th>1</th>\n",
       "      <td>All3Sports</td>\n",
       "      <td>8601 Dunwoody Place</td>\n",
       "      <td>Atlanta</td>\n",
       "      <td>GA</td>\n",
       "      <td>30350</td>\n",
       "    </tr>\n",
       "    <tr>\n",
       "      <th>2</th>\n",
       "      <td>Athletes Lounge</td>\n",
       "      <td>2671 NW Vaughn St</td>\n",
       "      <td>Portland</td>\n",
       "      <td>OR</td>\n",
       "      <td>97210</td>\n",
       "    </tr>\n",
       "    <tr>\n",
       "      <th>3</th>\n",
       "      <td>Berkeley Sports Basement</td>\n",
       "      <td>2727 Milvia</td>\n",
       "      <td>BERKELEY</td>\n",
       "      <td>CA</td>\n",
       "      <td>94703</td>\n",
       "    </tr>\n",
       "    <tr>\n",
       "      <th>4</th>\n",
       "      <td>Bicicletta</td>\n",
       "      <td>1480 GULF ROAD</td>\n",
       "      <td>POINT ROBERTS</td>\n",
       "      <td>WA</td>\n",
       "      <td>98281</td>\n",
       "    </tr>\n",
       "  </tbody>\n",
       "</table>\n",
       "</div>"
      ],
      "text/plain": [
       "                 Store Name       Street Address           City State Zip Code\n",
       "0         Aerotech Designs       1132 4th Avenue     Coraopolis    PA    15108\n",
       "1                All3Sports  8601 Dunwoody Place        Atlanta    GA    30350\n",
       "2           Athletes Lounge    2671 NW Vaughn St       Portland    OR    97210\n",
       "3  Berkeley Sports Basement          2727 Milvia       BERKELEY    CA    94703\n",
       "4                Bicicletta       1480 GULF ROAD  POINT ROBERTS    WA    98281"
      ]
     },
     "execution_count": 5,
     "metadata": {},
     "output_type": "execute_result"
    }
   ],
   "source": [
    "store.head()"
   ]
  },
  {
   "cell_type": "code",
   "execution_count": 6,
   "metadata": {
    "collapsed": false
   },
   "outputs": [
    {
     "data": {
      "text/plain": [
       "First Name                4096\n",
       "Last Name                 4101\n",
       "Ambassador                  89\n",
       "Professional                 5\n",
       "Address1                  4101\n",
       "City                      4101\n",
       "State                     4101\n",
       "Country                   4101\n",
       "Zip Code                  4101\n",
       "Total Dollars Spent       4101\n",
       "Total Number of Orders    4101\n",
       "dtype: int64"
      ]
     },
     "execution_count": 6,
     "metadata": {},
     "output_type": "execute_result"
    }
   ],
   "source": [
    "user.count()"
   ]
  },
  {
   "cell_type": "code",
   "execution_count": 7,
   "metadata": {
    "collapsed": false
   },
   "outputs": [
    {
     "data": {
      "text/plain": [
       "Store Name        83\n",
       "Street Address    83\n",
       "City              83\n",
       "State             83\n",
       "Zip Code          83\n",
       "dtype: int64"
      ]
     },
     "execution_count": 7,
     "metadata": {},
     "output_type": "execute_result"
    }
   ],
   "source": [
    "store.count()"
   ]
  },
  {
   "cell_type": "markdown",
   "metadata": {},
   "source": [
    "### Let's clean the Zip Code in user and store df"
   ]
  },
  {
   "cell_type": "code",
   "execution_count": 8,
   "metadata": {
    "collapsed": false
   },
   "outputs": [],
   "source": [
    "def cleanUserZip(x):\n",
    "    if str(x).find(\"'\")>-1:\n",
    "        x = x.replace(\"'\",\"\")\n",
    "        return x\n",
    "    else:\n",
    "        return x\n",
    "user['Zip Code'] = user['Zip Code'].apply(cleanUserZip)"
   ]
  },
  {
   "cell_type": "code",
   "execution_count": 9,
   "metadata": {
    "collapsed": true
   },
   "outputs": [],
   "source": [
    "user['Zip Code'] = user['Zip Code'].apply(str)\n",
    "store['Zip Code']= store['Zip Code'].apply(str)"
   ]
  },
  {
   "cell_type": "code",
   "execution_count": 10,
   "metadata": {
    "collapsed": false
   },
   "outputs": [
    {
     "data": {
      "text/plain": [
       "Store Name        2\n",
       "Street Address    2\n",
       "City              2\n",
       "State             2\n",
       "Zip Code          2\n",
       "dtype: int64"
      ]
     },
     "execution_count": 10,
     "metadata": {},
     "output_type": "execute_result"
    }
   ],
   "source": [
    "store[store['Zip Code'].str.len()>5].count()"
   ]
  },
  {
   "cell_type": "code",
   "execution_count": 11,
   "metadata": {
    "collapsed": false
   },
   "outputs": [
    {
     "data": {
      "text/html": [
       "<div>\n",
       "<table border=\"1\" class=\"dataframe\">\n",
       "  <thead>\n",
       "    <tr style=\"text-align: right;\">\n",
       "      <th></th>\n",
       "      <th>Store Name</th>\n",
       "      <th>Street Address</th>\n",
       "      <th>City</th>\n",
       "      <th>State</th>\n",
       "      <th>Zip Code</th>\n",
       "    </tr>\n",
       "  </thead>\n",
       "  <tbody>\n",
       "    <tr>\n",
       "      <th>19</th>\n",
       "      <td>Element Multisport</td>\n",
       "      <td>2754 North Clybourn Avenue</td>\n",
       "      <td>Chicago</td>\n",
       "      <td>IL</td>\n",
       "      <td>60614-8470</td>\n",
       "    </tr>\n",
       "    <tr>\n",
       "      <th>30</th>\n",
       "      <td>Gear for Multisport</td>\n",
       "      <td>1935 Don Wickham Dr</td>\n",
       "      <td>Clermont</td>\n",
       "      <td>FL</td>\n",
       "      <td>Fl 34711</td>\n",
       "    </tr>\n",
       "  </tbody>\n",
       "</table>\n",
       "</div>"
      ],
      "text/plain": [
       "             Store Name              Street Address      City State  \\\n",
       "19   Element Multisport  2754 North Clybourn Avenue   Chicago    IL   \n",
       "30  Gear for Multisport         1935 Don Wickham Dr  Clermont    FL   \n",
       "\n",
       "      Zip Code  \n",
       "19  60614-8470  \n",
       "30    Fl 34711  "
      ]
     },
     "execution_count": 11,
     "metadata": {},
     "output_type": "execute_result"
    }
   ],
   "source": [
    "store[store['Zip Code'].str.len()>5]"
   ]
  },
  {
   "cell_type": "code",
   "execution_count": 12,
   "metadata": {
    "collapsed": true
   },
   "outputs": [],
   "source": [
    "store.loc[30,'Zip Code']='34711'"
   ]
  },
  {
   "cell_type": "code",
   "execution_count": 13,
   "metadata": {
    "collapsed": false
   },
   "outputs": [
    {
     "data": {
      "text/plain": [
       "First Name                198\n",
       "Last Name                 198\n",
       "Ambassador                  0\n",
       "Professional                0\n",
       "Address1                  198\n",
       "City                      198\n",
       "State                     198\n",
       "Country                   198\n",
       "Zip Code                  198\n",
       "Total Dollars Spent       198\n",
       "Total Number of Orders    198\n",
       "dtype: int64"
      ]
     },
     "execution_count": 13,
     "metadata": {},
     "output_type": "execute_result"
    }
   ],
   "source": [
    "user[user['Zip Code'].str.len()>5].count()"
   ]
  },
  {
   "cell_type": "code",
   "execution_count": 14,
   "metadata": {
    "collapsed": true
   },
   "outputs": [],
   "source": [
    "def cleanShortZipLen(x):\n",
    "    if len(x)<5:\n",
    "        x = '0'+x\n",
    "        return x\n",
    "    else:\n",
    "        return x\n",
    "def cleanLongZipLen(x):\n",
    "    if len(x)>5:\n",
    "        x = x[:5]\n",
    "        return x\n",
    "    else:\n",
    "        return x"
   ]
  },
  {
   "cell_type": "code",
   "execution_count": 15,
   "metadata": {
    "collapsed": true
   },
   "outputs": [],
   "source": [
    "user['Zip Code'] = user['Zip Code'].apply(cleanShortZipLen)\n",
    "user['Zip Code'] = user['Zip Code'].apply(cleanLongZipLen)\n",
    "store['Zip Code'] = store['Zip Code'].apply(cleanShortZipLen)\n",
    "store['Zip Code'] = store['Zip Code'].apply(cleanLongZipLen)"
   ]
  },
  {
   "cell_type": "code",
   "execution_count": 16,
   "metadata": {
    "collapsed": true
   },
   "outputs": [],
   "source": [
    "states_abbrev = {\n",
    "        'AK': 'Alaska',\n",
    "        'AL': 'Alabama',\n",
    "        'AR': 'Arkansas',\n",
    "        'AS': 'American Samoa',\n",
    "        'AZ': 'Arizona',\n",
    "        'CA': 'California',\n",
    "        'CO': 'Colorado',\n",
    "        'CT': 'Connecticut',\n",
    "        'DC': 'District of Columbia',\n",
    "        'DE': 'Delaware',\n",
    "        'FL': 'Florida',\n",
    "        'GA': 'Georgia',\n",
    "        'GU': 'Guam',\n",
    "        'HI': 'Hawaii',\n",
    "        'IA': 'Iowa',\n",
    "        'ID': 'Idaho',\n",
    "        'IL': 'Illinois',\n",
    "        'IN': 'Indiana',\n",
    "        'KS': 'Kansas',\n",
    "        'KY': 'Kentucky',\n",
    "        'LA': 'Louisiana',\n",
    "        'MA': 'Massachusetts',\n",
    "        'MD': 'Maryland',\n",
    "        'ME': 'Maine',\n",
    "        'MI': 'Michigan',\n",
    "        'MN': 'Minnesota',\n",
    "        'MO': 'Missouri',\n",
    "        'MP': 'Northern Mariana Islands',\n",
    "        'MS': 'Mississippi',\n",
    "        'MT': 'Montana',\n",
    "        'NA': 'National',\n",
    "        'NC': 'North Carolina',\n",
    "        'ND': 'North Dakota',\n",
    "        'NE': 'Nebraska',\n",
    "        'NH': 'New Hampshire',\n",
    "        'NJ': 'New Jersey',\n",
    "        'NM': 'New Mexico',\n",
    "        'NV': 'Nevada',\n",
    "        'NY': 'New York',\n",
    "        'OH': 'Ohio',\n",
    "        'OK': 'Oklahoma',\n",
    "        'OR': 'Oregon',\n",
    "        'PA': 'Pennsylvania',\n",
    "        'PR': 'Puerto Rico',\n",
    "        'RI': 'Rhode Island',\n",
    "        'SC': 'South Carolina',\n",
    "        'SD': 'South Dakota',\n",
    "        'TN': 'Tennessee',\n",
    "        'TX': 'Texas',\n",
    "        'UT': 'Utah',\n",
    "        'VA': 'Virginia',\n",
    "        'VI': 'Virgin Islands',\n",
    "        'VT': 'Vermont',\n",
    "        'WA': 'Washington',\n",
    "        'WI': 'Wisconsin',\n",
    "        'WV': 'West Virginia',\n",
    "        'WY': 'Wyoming'\n",
    "}"
   ]
  },
  {
   "cell_type": "code",
   "execution_count": 17,
   "metadata": {
    "collapsed": false
   },
   "outputs": [
    {
     "data": {
      "text/plain": [
       "57"
      ]
     },
     "execution_count": 17,
     "metadata": {},
     "output_type": "execute_result"
    }
   ],
   "source": [
    "len(states_abbrev.keys())"
   ]
  },
  {
   "cell_type": "code",
   "execution_count": 18,
   "metadata": {
    "collapsed": true
   },
   "outputs": [],
   "source": [
    "user_states = user.State.unique().tolist()\n",
    "store_states = store.State.unique().tolist()"
   ]
  },
  {
   "cell_type": "markdown",
   "metadata": {},
   "source": [
    "### number of unique states in the user and store df"
   ]
  },
  {
   "cell_type": "code",
   "execution_count": 19,
   "metadata": {
    "collapsed": false
   },
   "outputs": [
    {
     "name": "stdout",
     "output_type": "stream",
     "text": [
      "User DF states:  54\n",
      "Store DF states:  31\n"
     ]
    }
   ],
   "source": [
    "print \"User DF states: \",len(user_states)\n",
    "print \"Store DF states: \",len(store_states)"
   ]
  },
  {
   "cell_type": "markdown",
   "metadata": {},
   "source": [
    "### States common in user df and store df with the states_abbrev dict"
   ]
  },
  {
   "cell_type": "code",
   "execution_count": 20,
   "metadata": {
    "collapsed": false
   },
   "outputs": [
    {
     "name": "stdout",
     "output_type": "stream",
     "text": [
      "Dict and store df common states:  30\n",
      "Dict and user df common states:  51\n"
     ]
    }
   ],
   "source": [
    "print \"Dict and store df common states: \",len(list(set(states_abbrev.keys())&set(store_states)))\n",
    "print \"Dict and user df common states: \",len(list(set(states_abbrev.values())&set(user_states)))"
   ]
  },
  {
   "cell_type": "markdown",
   "metadata": {},
   "source": [
    "### Lets see which states are not coming up as common in both dfs"
   ]
  },
  {
   "cell_type": "code",
   "execution_count": 21,
   "metadata": {
    "collapsed": false
   },
   "outputs": [
    {
     "name": "stdout",
     "output_type": "stream",
     "text": [
      "store df and dict uncommon states:  [u'CA ']\n",
      "user df and dict uncommon states:  [u'Armed Forces Europe', u'Armed Forces Pacific', u'Washington DC']\n"
     ]
    }
   ],
   "source": [
    "print \"store df and dict uncommon states: \",list(set(store_states).difference(states_abbrev.keys()))\n",
    "print \"user df and dict uncommon states: \",list(set(user_states).difference(states_abbrev.values()))"
   ]
  },
  {
   "cell_type": "markdown",
   "metadata": {},
   "source": [
    "### Now we clean the data for states"
   ]
  },
  {
   "cell_type": "code",
   "execution_count": 22,
   "metadata": {
    "collapsed": true
   },
   "outputs": [],
   "source": [
    "def cleanStoreState(x):\n",
    "    if str(x).find(\"CA\")>-1:\n",
    "        x = 'CA'\n",
    "        return x\n",
    "    else:\n",
    "        return x\n",
    "store['State'] = store['State'].apply(cleanStoreState)"
   ]
  },
  {
   "cell_type": "code",
   "execution_count": 23,
   "metadata": {
    "collapsed": false
   },
   "outputs": [],
   "source": [
    "def cleanUserState(x):\n",
    "    if str(x).find(\"Washington\")>-1:\n",
    "        x = 'Washington'\n",
    "        return x\n",
    "    else:\n",
    "        return x\n",
    "user['State'] = user['State'].apply(cleanUserState)"
   ]
  },
  {
   "cell_type": "code",
   "execution_count": 24,
   "metadata": {
    "collapsed": false
   },
   "outputs": [
    {
     "data": {
      "text/html": [
       "<div>\n",
       "<table border=\"1\" class=\"dataframe\">\n",
       "  <thead>\n",
       "    <tr style=\"text-align: right;\">\n",
       "      <th></th>\n",
       "      <th>First Name</th>\n",
       "      <th>Last Name</th>\n",
       "      <th>Ambassador</th>\n",
       "      <th>Professional</th>\n",
       "      <th>Address1</th>\n",
       "      <th>City</th>\n",
       "      <th>State</th>\n",
       "      <th>Country</th>\n",
       "      <th>Zip Code</th>\n",
       "      <th>Total Dollars Spent</th>\n",
       "      <th>Total Number of Orders</th>\n",
       "    </tr>\n",
       "  </thead>\n",
       "  <tbody>\n",
       "    <tr>\n",
       "      <th>1075</th>\n",
       "      <td>Dianne</td>\n",
       "      <td>Duran</td>\n",
       "      <td>NaN</td>\n",
       "      <td>NaN</td>\n",
       "      <td>PSC 103 Box 719</td>\n",
       "      <td>APO</td>\n",
       "      <td>Armed Forces Europe</td>\n",
       "      <td>United States</td>\n",
       "      <td>09603</td>\n",
       "      <td>99.99</td>\n",
       "      <td>1</td>\n",
       "    </tr>\n",
       "    <tr>\n",
       "      <th>1781</th>\n",
       "      <td>Audrey</td>\n",
       "      <td>Hyland</td>\n",
       "      <td>NaN</td>\n",
       "      <td>NaN</td>\n",
       "      <td>Unit 9700 Box 2616</td>\n",
       "      <td>DPO</td>\n",
       "      <td>Armed Forces Europe</td>\n",
       "      <td>United States</td>\n",
       "      <td>09830</td>\n",
       "      <td>249.97</td>\n",
       "      <td>1</td>\n",
       "    </tr>\n",
       "    <tr>\n",
       "      <th>1893</th>\n",
       "      <td>Justine</td>\n",
       "      <td>Jordan</td>\n",
       "      <td>NaN</td>\n",
       "      <td>NaN</td>\n",
       "      <td>PSC 559 box 6768</td>\n",
       "      <td>FPO</td>\n",
       "      <td>Armed Forces Pacific</td>\n",
       "      <td>United States</td>\n",
       "      <td>96377</td>\n",
       "      <td>329.95</td>\n",
       "      <td>2</td>\n",
       "    </tr>\n",
       "    <tr>\n",
       "      <th>2160</th>\n",
       "      <td>Edith</td>\n",
       "      <td>Lee</td>\n",
       "      <td>NaN</td>\n",
       "      <td>NaN</td>\n",
       "      <td>Unit 8600 Box 1116</td>\n",
       "      <td>DPO</td>\n",
       "      <td>Armed Forces Pacific</td>\n",
       "      <td>United States</td>\n",
       "      <td>96515</td>\n",
       "      <td>159.98</td>\n",
       "      <td>1</td>\n",
       "    </tr>\n",
       "    <tr>\n",
       "      <th>3397</th>\n",
       "      <td>Alison</td>\n",
       "      <td>Siepker</td>\n",
       "      <td>NaN</td>\n",
       "      <td>NaN</td>\n",
       "      <td>PSC 903 Box 21005</td>\n",
       "      <td>FPO</td>\n",
       "      <td>Armed Forces Europe</td>\n",
       "      <td>United States</td>\n",
       "      <td>09859</td>\n",
       "      <td>64.98</td>\n",
       "      <td>1</td>\n",
       "    </tr>\n",
       "    <tr>\n",
       "      <th>3544</th>\n",
       "      <td>Ashley</td>\n",
       "      <td>Stevens</td>\n",
       "      <td>NaN</td>\n",
       "      <td>NaN</td>\n",
       "      <td>Unit 5090, Box 5000</td>\n",
       "      <td>DPO</td>\n",
       "      <td>Armed Forces Europe</td>\n",
       "      <td>United States</td>\n",
       "      <td>09265</td>\n",
       "      <td>169.98</td>\n",
       "      <td>1</td>\n",
       "    </tr>\n",
       "  </tbody>\n",
       "</table>\n",
       "</div>"
      ],
      "text/plain": [
       "     First Name Last Name Ambassador Professional             Address1 City  \\\n",
       "1075     Dianne     Duran        NaN          NaN      PSC 103 Box 719  APO   \n",
       "1781     Audrey    Hyland        NaN          NaN   Unit 9700 Box 2616  DPO   \n",
       "1893    Justine    Jordan        NaN          NaN     PSC 559 box 6768  FPO   \n",
       "2160      Edith       Lee        NaN          NaN   Unit 8600 Box 1116  DPO   \n",
       "3397     Alison   Siepker        NaN          NaN    PSC 903 Box 21005  FPO   \n",
       "3544     Ashley   Stevens        NaN          NaN  Unit 5090, Box 5000  DPO   \n",
       "\n",
       "                     State        Country Zip Code  Total Dollars Spent  \\\n",
       "1075   Armed Forces Europe  United States    09603                99.99   \n",
       "1781   Armed Forces Europe  United States    09830               249.97   \n",
       "1893  Armed Forces Pacific  United States    96377               329.95   \n",
       "2160  Armed Forces Pacific  United States    96515               159.98   \n",
       "3397   Armed Forces Europe  United States    09859                64.98   \n",
       "3544   Armed Forces Europe  United States    09265               169.98   \n",
       "\n",
       "      Total Number of Orders  \n",
       "1075                       1  \n",
       "1781                       1  \n",
       "1893                       2  \n",
       "2160                       1  \n",
       "3397                       1  \n",
       "3544                       1  "
      ]
     },
     "execution_count": 24,
     "metadata": {},
     "output_type": "execute_result"
    }
   ],
   "source": [
    "user[user.State.isin(['Armed Forces Europe','Armed Forces Pacific'])]"
   ]
  },
  {
   "cell_type": "markdown",
   "metadata": {},
   "source": [
    "### We will drop these states from the user df"
   ]
  },
  {
   "cell_type": "code",
   "execution_count": 25,
   "metadata": {
    "collapsed": true
   },
   "outputs": [],
   "source": [
    "user_states = user.State.unique().tolist()\n",
    "store_states = store.State.unique().tolist()"
   ]
  },
  {
   "cell_type": "code",
   "execution_count": 26,
   "metadata": {
    "collapsed": true
   },
   "outputs": [],
   "source": [
    "drop_states = list(set(user_states).difference(states_abbrev.values()))"
   ]
  },
  {
   "cell_type": "code",
   "execution_count": 27,
   "metadata": {
    "collapsed": false
   },
   "outputs": [],
   "source": [
    "user = user[~user.State.isin(drop_states)]"
   ]
  },
  {
   "cell_type": "markdown",
   "metadata": {},
   "source": [
    "### Now to make a map we need to get the latitude and longitude coordinates for each zip code"
   ]
  },
  {
   "cell_type": "code",
   "execution_count": 28,
   "metadata": {
    "collapsed": true
   },
   "outputs": [],
   "source": [
    "from collections import defaultdict\n",
    "import json\n",
    "import requests"
   ]
  },
  {
   "cell_type": "code",
   "execution_count": 29,
   "metadata": {
    "collapsed": true
   },
   "outputs": [],
   "source": [
    "#adapted from  https://github.com/dataiap/dataiap/blob/master/resources/util/map_util.py\n",
    "#load in state geometry\n",
    "state2poly = defaultdict(list)\n",
    "us_data = requests.get('https://raw.githubusercontent.com/skepticalbayes/DataScience/master/Intro/data/us-states.json')"
   ]
  },
  {
   "cell_type": "code",
   "execution_count": 30,
   "metadata": {
    "collapsed": false
   },
   "outputs": [],
   "source": [
    "data = json.loads(us_data.content)\n",
    "for f in data['features']:\n",
    "    state = states_abbrev[f['id']]\n",
    "    geo = f['geometry']\n",
    "    if geo['type'] == 'Polygon':\n",
    "        for coords in geo['coordinates']:\n",
    "            state2poly[state].append(coords)\n",
    "    elif geo['type'] == 'MultiPolygon':\n",
    "        for polygon in geo['coordinates']:\n",
    "            state2poly[state].extend(polygon)\n",
    "\n",
    "            \n",
    "def draw_state(ax,stateid, **kwargs):\n",
    "    \"\"\"\n",
    "    draw_state(plot, stateid, color=..., **kwargs)\n",
    "    \n",
    "    Automatically draws a filled shape representing the state in\n",
    "    subplot.\n",
    "    The color keyword argument specifies the fill color.  It accepts keyword\n",
    "    arguments that plot() accepts\n",
    "    \"\"\"\n",
    "    for polygon in state2poly[stateid]:\n",
    "        xs, ys = zip(*polygon)\n",
    "        ax.fill(xs, ys,color='0.9',zorder=0)\n",
    "        ax.plot(xs,ys,lw='0.07',color='k',zorder=1)\n",
    "\n",
    "        \n",
    "def make_map():\n",
    "    \"\"\"\n",
    "    Draw a cloropleth map, that maps data onto the United States\n",
    "    \n",
    "    Inputs\n",
    "    -------\n",
    "    states : Column of a DataFrame\n",
    "        The value for each state, to display on a map\n",
    "    label : str\n",
    "        Label of the color bar\n",
    "\n",
    "    Returns\n",
    "    --------\n",
    "    The map\n",
    "    \"\"\"\n",
    "    fig = plt.figure(figsize=(12, 9))\n",
    "    ax = plt.gca()\n",
    "\n",
    "#     if states.max() < 2: # colormap for election probabilities \n",
    "#         cmap = cm.RdBu\n",
    "#         vmin, vmax = 0, 1\n",
    "#     else:  # colormap for electoral votes\n",
    "#         cmap = cm.binary\n",
    "#         vmin, vmax = 0, states.max()\n",
    "#     norm = mpl.colors.Normalize(vmin=vmin, vmax=vmax)\n",
    "    \n",
    "    skip = set(['National', 'District of Columbia', 'Guam', 'Puerto Rico',\n",
    "                'Virgin Islands', 'American Samoa', 'Northern Mariana Islands'])\n",
    "    for state in states_abbrev.values():\n",
    "        if state in skip:\n",
    "            continue\n",
    "#         color = cmap(norm(states.ix[state]))\n",
    "        draw_state(ax,state)\n",
    "\n",
    "    #add an inset colorbar\n",
    "#     ax1 = fig.add_axes([0.45, 0.70, 0.4, 0.02])    \n",
    "#     cb1=mpl.colorbar.ColorbarBase(ax1, cmap=cmap,\n",
    "#                                   norm=norm,\n",
    "#                                   orientation='horizontal')\n",
    "#     ax1.set_title(label)\n",
    "#     remove_border(ax, left=False, bottom=False)\n",
    "#     ax.set_xticks([])\n",
    "#     ax.set_yticks([])\n",
    "    ax.set_xlim(-180, -60)\n",
    "    ax.set_ylim(15, 75)\n",
    "    return ax"
   ]
  },
  {
   "cell_type": "markdown",
   "metadata": {},
   "source": [
    "### This is how the map looks like"
   ]
  },
  {
   "cell_type": "code",
   "execution_count": 31,
   "metadata": {
    "collapsed": false,
    "scrolled": false
   },
   "outputs": [
    {
     "data": {
      "text/plain": [
       "<matplotlib.axes._subplots.AxesSubplot at 0xcaf40f0>"
      ]
     },
     "execution_count": 31,
     "metadata": {},
     "output_type": "execute_result"
    },
    {
     "data": {
      "image/png": "[encoded data removed]",
      "text/plain": [
       "<matplotlib.figure.Figure at 0xc835b70>"
      ]
     },
     "metadata": {},
     "output_type": "display_data"
    }
   ],
   "source": [
    "make_map()"
   ]
  },
  {
   "cell_type": "markdown",
   "metadata": {},
   "source": [
    "### To get the latitude and longitude coordinates for the zip codes we use http://federalgovernmentzipcodes.us/ to get the CSV to get all enlisted zip codes and their lats n longs\n",
    "\n",
    "*We tried google api and geopy module but there were issues with both so we used the most stable data we could get for free*"
   ]
  },
  {
   "cell_type": "code",
   "execution_count": 32,
   "metadata": {
    "collapsed": true
   },
   "outputs": [],
   "source": [
    "df = pd.read_csv('zips.csv')\n",
    "# http://federalgovernmentzipcodes.us/"
   ]
  },
  {
   "cell_type": "code",
   "execution_count": 33,
   "metadata": {
    "collapsed": false
   },
   "outputs": [
    {
     "data": {
      "text/html": [
       "<div>\n",
       "<table border=\"1\" class=\"dataframe\">\n",
       "  <thead>\n",
       "    <tr style=\"text-align: right;\">\n",
       "      <th></th>\n",
       "      <th>Zipcode</th>\n",
       "      <th>ZipCodeType</th>\n",
       "      <th>City</th>\n",
       "      <th>State</th>\n",
       "      <th>LocationType</th>\n",
       "      <th>Lat</th>\n",
       "      <th>Long</th>\n",
       "      <th>Location</th>\n",
       "      <th>Decommisioned</th>\n",
       "      <th>TaxReturnsFiled</th>\n",
       "      <th>EstimatedPopulation</th>\n",
       "      <th>TotalWages</th>\n",
       "    </tr>\n",
       "  </thead>\n",
       "  <tbody>\n",
       "    <tr>\n",
       "      <th>0</th>\n",
       "      <td>705</td>\n",
       "      <td>STANDARD</td>\n",
       "      <td>AIBONITO</td>\n",
       "      <td>PR</td>\n",
       "      <td>PRIMARY</td>\n",
       "      <td>18.14</td>\n",
       "      <td>-66.26</td>\n",
       "      <td>NA-US-PR-AIBONITO</td>\n",
       "      <td>False</td>\n",
       "      <td>NaN</td>\n",
       "      <td>NaN</td>\n",
       "      <td>NaN</td>\n",
       "    </tr>\n",
       "    <tr>\n",
       "      <th>1</th>\n",
       "      <td>610</td>\n",
       "      <td>STANDARD</td>\n",
       "      <td>ANASCO</td>\n",
       "      <td>PR</td>\n",
       "      <td>PRIMARY</td>\n",
       "      <td>18.28</td>\n",
       "      <td>-67.14</td>\n",
       "      <td>NA-US-PR-ANASCO</td>\n",
       "      <td>False</td>\n",
       "      <td>NaN</td>\n",
       "      <td>NaN</td>\n",
       "      <td>NaN</td>\n",
       "    </tr>\n",
       "    <tr>\n",
       "      <th>2</th>\n",
       "      <td>611</td>\n",
       "      <td>PO BOX</td>\n",
       "      <td>ANGELES</td>\n",
       "      <td>PR</td>\n",
       "      <td>PRIMARY</td>\n",
       "      <td>18.28</td>\n",
       "      <td>-66.79</td>\n",
       "      <td>NA-US-PR-ANGELES</td>\n",
       "      <td>False</td>\n",
       "      <td>NaN</td>\n",
       "      <td>NaN</td>\n",
       "      <td>NaN</td>\n",
       "    </tr>\n",
       "    <tr>\n",
       "      <th>3</th>\n",
       "      <td>612</td>\n",
       "      <td>STANDARD</td>\n",
       "      <td>ARECIBO</td>\n",
       "      <td>PR</td>\n",
       "      <td>PRIMARY</td>\n",
       "      <td>18.45</td>\n",
       "      <td>-66.73</td>\n",
       "      <td>NA-US-PR-ARECIBO</td>\n",
       "      <td>False</td>\n",
       "      <td>NaN</td>\n",
       "      <td>NaN</td>\n",
       "      <td>NaN</td>\n",
       "    </tr>\n",
       "    <tr>\n",
       "      <th>4</th>\n",
       "      <td>601</td>\n",
       "      <td>STANDARD</td>\n",
       "      <td>ADJUNTAS</td>\n",
       "      <td>PR</td>\n",
       "      <td>PRIMARY</td>\n",
       "      <td>18.16</td>\n",
       "      <td>-66.72</td>\n",
       "      <td>NA-US-PR-ADJUNTAS</td>\n",
       "      <td>False</td>\n",
       "      <td>NaN</td>\n",
       "      <td>NaN</td>\n",
       "      <td>NaN</td>\n",
       "    </tr>\n",
       "  </tbody>\n",
       "</table>\n",
       "</div>"
      ],
      "text/plain": [
       "   Zipcode ZipCodeType      City State LocationType    Lat   Long  \\\n",
       "0      705    STANDARD  AIBONITO    PR      PRIMARY  18.14 -66.26   \n",
       "1      610    STANDARD    ANASCO    PR      PRIMARY  18.28 -67.14   \n",
       "2      611      PO BOX   ANGELES    PR      PRIMARY  18.28 -66.79   \n",
       "3      612    STANDARD   ARECIBO    PR      PRIMARY  18.45 -66.73   \n",
       "4      601    STANDARD  ADJUNTAS    PR      PRIMARY  18.16 -66.72   \n",
       "\n",
       "            Location Decommisioned  TaxReturnsFiled  EstimatedPopulation  \\\n",
       "0  NA-US-PR-AIBONITO         False              NaN                  NaN   \n",
       "1    NA-US-PR-ANASCO         False              NaN                  NaN   \n",
       "2   NA-US-PR-ANGELES         False              NaN                  NaN   \n",
       "3   NA-US-PR-ARECIBO         False              NaN                  NaN   \n",
       "4  NA-US-PR-ADJUNTAS         False              NaN                  NaN   \n",
       "\n",
       "   TotalWages  \n",
       "0         NaN  \n",
       "1         NaN  \n",
       "2         NaN  \n",
       "3         NaN  \n",
       "4         NaN  "
      ]
     },
     "execution_count": 33,
     "metadata": {},
     "output_type": "execute_result"
    }
   ],
   "source": [
    "df.head()"
   ]
  },
  {
   "cell_type": "markdown",
   "metadata": {},
   "source": [
    "### We need to clean the Zip codes in the database"
   ]
  },
  {
   "cell_type": "code",
   "execution_count": 34,
   "metadata": {
    "collapsed": false
   },
   "outputs": [],
   "source": [
    "df.Zipcode = df.Zipcode.apply(str)\n",
    "def applyFixZips(x):\n",
    "    if len(x)==3:\n",
    "        x = '00'+x\n",
    "        return x\n",
    "    elif len(x)==4:\n",
    "        x='0'+x\n",
    "        return x\n",
    "    else:\n",
    "        return x\n",
    "df.Zipcode = df.Zipcode.apply(applyFixZips)"
   ]
  },
  {
   "cell_type": "code",
   "execution_count": 35,
   "metadata": {
    "collapsed": false
   },
   "outputs": [
    {
     "data": {
      "text/html": [
       "<div>\n",
       "<table border=\"1\" class=\"dataframe\">\n",
       "  <thead>\n",
       "    <tr style=\"text-align: right;\">\n",
       "      <th></th>\n",
       "      <th>Zipcode</th>\n",
       "      <th>ZipCodeType</th>\n",
       "      <th>City</th>\n",
       "      <th>State</th>\n",
       "      <th>LocationType</th>\n",
       "      <th>Lat</th>\n",
       "      <th>Long</th>\n",
       "      <th>Location</th>\n",
       "      <th>Decommisioned</th>\n",
       "      <th>TaxReturnsFiled</th>\n",
       "      <th>EstimatedPopulation</th>\n",
       "      <th>TotalWages</th>\n",
       "    </tr>\n",
       "  </thead>\n",
       "  <tbody>\n",
       "    <tr>\n",
       "      <th>0</th>\n",
       "      <td>00705</td>\n",
       "      <td>STANDARD</td>\n",
       "      <td>AIBONITO</td>\n",
       "      <td>PR</td>\n",
       "      <td>PRIMARY</td>\n",
       "      <td>18.14</td>\n",
       "      <td>-66.26</td>\n",
       "      <td>NA-US-PR-AIBONITO</td>\n",
       "      <td>False</td>\n",
       "      <td>NaN</td>\n",
       "      <td>NaN</td>\n",
       "      <td>NaN</td>\n",
       "    </tr>\n",
       "    <tr>\n",
       "      <th>1</th>\n",
       "      <td>00610</td>\n",
       "      <td>STANDARD</td>\n",
       "      <td>ANASCO</td>\n",
       "      <td>PR</td>\n",
       "      <td>PRIMARY</td>\n",
       "      <td>18.28</td>\n",
       "      <td>-67.14</td>\n",
       "      <td>NA-US-PR-ANASCO</td>\n",
       "      <td>False</td>\n",
       "      <td>NaN</td>\n",
       "      <td>NaN</td>\n",
       "      <td>NaN</td>\n",
       "    </tr>\n",
       "    <tr>\n",
       "      <th>2</th>\n",
       "      <td>00611</td>\n",
       "      <td>PO BOX</td>\n",
       "      <td>ANGELES</td>\n",
       "      <td>PR</td>\n",
       "      <td>PRIMARY</td>\n",
       "      <td>18.28</td>\n",
       "      <td>-66.79</td>\n",
       "      <td>NA-US-PR-ANGELES</td>\n",
       "      <td>False</td>\n",
       "      <td>NaN</td>\n",
       "      <td>NaN</td>\n",
       "      <td>NaN</td>\n",
       "    </tr>\n",
       "    <tr>\n",
       "      <th>3</th>\n",
       "      <td>00612</td>\n",
       "      <td>STANDARD</td>\n",
       "      <td>ARECIBO</td>\n",
       "      <td>PR</td>\n",
       "      <td>PRIMARY</td>\n",
       "      <td>18.45</td>\n",
       "      <td>-66.73</td>\n",
       "      <td>NA-US-PR-ARECIBO</td>\n",
       "      <td>False</td>\n",
       "      <td>NaN</td>\n",
       "      <td>NaN</td>\n",
       "      <td>NaN</td>\n",
       "    </tr>\n",
       "    <tr>\n",
       "      <th>4</th>\n",
       "      <td>00601</td>\n",
       "      <td>STANDARD</td>\n",
       "      <td>ADJUNTAS</td>\n",
       "      <td>PR</td>\n",
       "      <td>PRIMARY</td>\n",
       "      <td>18.16</td>\n",
       "      <td>-66.72</td>\n",
       "      <td>NA-US-PR-ADJUNTAS</td>\n",
       "      <td>False</td>\n",
       "      <td>NaN</td>\n",
       "      <td>NaN</td>\n",
       "      <td>NaN</td>\n",
       "    </tr>\n",
       "  </tbody>\n",
       "</table>\n",
       "</div>"
      ],
      "text/plain": [
       "  Zipcode ZipCodeType      City State LocationType    Lat   Long  \\\n",
       "0   00705    STANDARD  AIBONITO    PR      PRIMARY  18.14 -66.26   \n",
       "1   00610    STANDARD    ANASCO    PR      PRIMARY  18.28 -67.14   \n",
       "2   00611      PO BOX   ANGELES    PR      PRIMARY  18.28 -66.79   \n",
       "3   00612    STANDARD   ARECIBO    PR      PRIMARY  18.45 -66.73   \n",
       "4   00601    STANDARD  ADJUNTAS    PR      PRIMARY  18.16 -66.72   \n",
       "\n",
       "            Location Decommisioned  TaxReturnsFiled  EstimatedPopulation  \\\n",
       "0  NA-US-PR-AIBONITO         False              NaN                  NaN   \n",
       "1    NA-US-PR-ANASCO         False              NaN                  NaN   \n",
       "2   NA-US-PR-ANGELES         False              NaN                  NaN   \n",
       "3   NA-US-PR-ARECIBO         False              NaN                  NaN   \n",
       "4  NA-US-PR-ADJUNTAS         False              NaN                  NaN   \n",
       "\n",
       "   TotalWages  \n",
       "0         NaN  \n",
       "1         NaN  \n",
       "2         NaN  \n",
       "3         NaN  \n",
       "4         NaN  "
      ]
     },
     "execution_count": 35,
     "metadata": {},
     "output_type": "execute_result"
    }
   ],
   "source": [
    "df.head()"
   ]
  },
  {
   "cell_type": "markdown",
   "metadata": {},
   "source": [
    "### Getting the Lats n Longs for the store and user DF"
   ]
  },
  {
   "cell_type": "code",
   "execution_count": 36,
   "metadata": {
    "collapsed": true
   },
   "outputs": [],
   "source": [
    "df['Zip Code'] = df.Zipcode\n",
    "df['city'] = df.City\n",
    "df['state'] = df.State\n",
    "df = df[['Zip Code','city','state','Lat','Long']]\n",
    "store_df = store.merge(df,how='left',on=['Zip Code'])"
   ]
  },
  {
   "cell_type": "code",
   "execution_count": 37,
   "metadata": {
    "collapsed": true
   },
   "outputs": [],
   "source": [
    "user_df = user.merge(df,how='left',on=['Zip Code'])"
   ]
  },
  {
   "cell_type": "markdown",
   "metadata": {},
   "source": [
    "### Still issues persist with the Data so we go on and fix it"
   ]
  },
  {
   "cell_type": "code",
   "execution_count": 38,
   "metadata": {
    "collapsed": false
   },
   "outputs": [
    {
     "data": {
      "text/html": [
       "<div>\n",
       "<table border=\"1\" class=\"dataframe\">\n",
       "  <thead>\n",
       "    <tr style=\"text-align: right;\">\n",
       "      <th></th>\n",
       "      <th>Store Name</th>\n",
       "      <th>Street Address</th>\n",
       "      <th>City</th>\n",
       "      <th>State</th>\n",
       "      <th>Zip Code</th>\n",
       "      <th>city</th>\n",
       "      <th>state</th>\n",
       "      <th>Lat</th>\n",
       "      <th>Long</th>\n",
       "    </tr>\n",
       "  </thead>\n",
       "  <tbody>\n",
       "    <tr>\n",
       "      <th>47</th>\n",
       "      <td>MACK CYCLE AND FITNESS</td>\n",
       "      <td>5995 Sunset Drive</td>\n",
       "      <td>South Miami</td>\n",
       "      <td>FL</td>\n",
       "      <td>22143</td>\n",
       "      <td>NaN</td>\n",
       "      <td>NaN</td>\n",
       "      <td>NaN</td>\n",
       "      <td>NaN</td>\n",
       "    </tr>\n",
       "  </tbody>\n",
       "</table>\n",
       "</div>"
      ],
      "text/plain": [
       "                Store Name     Street Address         City State Zip Code  \\\n",
       "47  MACK CYCLE AND FITNESS  5995 Sunset Drive  South Miami    FL    22143   \n",
       "\n",
       "   city state  Lat  Long  \n",
       "47  NaN   NaN  NaN   NaN  "
      ]
     },
     "execution_count": 38,
     "metadata": {},
     "output_type": "execute_result"
    }
   ],
   "source": [
    "store_df[store_df.city.isnull()]"
   ]
  },
  {
   "cell_type": "code",
   "execution_count": 39,
   "metadata": {
    "collapsed": false
   },
   "outputs": [
    {
     "data": {
      "text/html": [
       "<div>\n",
       "<table border=\"1\" class=\"dataframe\">\n",
       "  <thead>\n",
       "    <tr style=\"text-align: right;\">\n",
       "      <th></th>\n",
       "      <th>First Name</th>\n",
       "      <th>Last Name</th>\n",
       "      <th>Ambassador</th>\n",
       "      <th>Professional</th>\n",
       "      <th>Address1</th>\n",
       "      <th>City</th>\n",
       "      <th>State</th>\n",
       "      <th>Country</th>\n",
       "      <th>Zip Code</th>\n",
       "      <th>Total Dollars Spent</th>\n",
       "      <th>Total Number of Orders</th>\n",
       "      <th>city</th>\n",
       "      <th>state</th>\n",
       "      <th>Lat</th>\n",
       "      <th>Long</th>\n",
       "    </tr>\n",
       "  </thead>\n",
       "  <tbody>\n",
       "    <tr>\n",
       "      <th>794</th>\n",
       "      <td>Teresa</td>\n",
       "      <td>Copeland</td>\n",
       "      <td>NaN</td>\n",
       "      <td>NaN</td>\n",
       "      <td>2355 NW Labiche LN</td>\n",
       "      <td>Bend</td>\n",
       "      <td>Oregon</td>\n",
       "      <td>United States</td>\n",
       "      <td>97703</td>\n",
       "      <td>59.97</td>\n",
       "      <td>3</td>\n",
       "      <td>NaN</td>\n",
       "      <td>NaN</td>\n",
       "      <td>NaN</td>\n",
       "      <td>NaN</td>\n",
       "    </tr>\n",
       "    <tr>\n",
       "      <th>945</th>\n",
       "      <td>Joan</td>\n",
       "      <td>DeFrances</td>\n",
       "      <td>NaN</td>\n",
       "      <td>NaN</td>\n",
       "      <td>80 Serafin Court</td>\n",
       "      <td>Hamden</td>\n",
       "      <td>Connecticut</td>\n",
       "      <td>United States</td>\n",
       "      <td>06528</td>\n",
       "      <td>79.99</td>\n",
       "      <td>1</td>\n",
       "      <td>NaN</td>\n",
       "      <td>NaN</td>\n",
       "      <td>NaN</td>\n",
       "      <td>NaN</td>\n",
       "    </tr>\n",
       "    <tr>\n",
       "      <th>2289</th>\n",
       "      <td>Emma</td>\n",
       "      <td>Maaranen</td>\n",
       "      <td>NaN</td>\n",
       "      <td>NaN</td>\n",
       "      <td>1117 NW Federal St.</td>\n",
       "      <td>Bend</td>\n",
       "      <td>Oregon</td>\n",
       "      <td>United States</td>\n",
       "      <td>97703</td>\n",
       "      <td>144.99</td>\n",
       "      <td>2</td>\n",
       "      <td>NaN</td>\n",
       "      <td>NaN</td>\n",
       "      <td>NaN</td>\n",
       "      <td>NaN</td>\n",
       "    </tr>\n",
       "    <tr>\n",
       "      <th>2613</th>\n",
       "      <td>Stephanie</td>\n",
       "      <td>Morris</td>\n",
       "      <td>NaN</td>\n",
       "      <td>NaN</td>\n",
       "      <td>8200 Meadow Ridge</td>\n",
       "      <td>Clarkston</td>\n",
       "      <td>Michigan</td>\n",
       "      <td>United States</td>\n",
       "      <td>84348</td>\n",
       "      <td>131.96</td>\n",
       "      <td>4</td>\n",
       "      <td>NaN</td>\n",
       "      <td>NaN</td>\n",
       "      <td>NaN</td>\n",
       "      <td>NaN</td>\n",
       "    </tr>\n",
       "    <tr>\n",
       "      <th>3968</th>\n",
       "      <td>Tori</td>\n",
       "      <td>WILLIAMS</td>\n",
       "      <td>NaN</td>\n",
       "      <td>NaN</td>\n",
       "      <td>3779 W Elk Valley Lane</td>\n",
       "      <td>South Jordan</td>\n",
       "      <td>Utah</td>\n",
       "      <td>United States</td>\n",
       "      <td>84009</td>\n",
       "      <td>289.97</td>\n",
       "      <td>1</td>\n",
       "      <td>NaN</td>\n",
       "      <td>NaN</td>\n",
       "      <td>NaN</td>\n",
       "      <td>NaN</td>\n",
       "    </tr>\n",
       "  </tbody>\n",
       "</table>\n",
       "</div>"
      ],
      "text/plain": [
       "     First Name  Last Name Ambassador Professional                Address1  \\\n",
       "794      Teresa   Copeland        NaN          NaN      2355 NW Labiche LN   \n",
       "945        Joan  DeFrances        NaN          NaN        80 Serafin Court   \n",
       "2289       Emma   Maaranen        NaN          NaN     1117 NW Federal St.   \n",
       "2613  Stephanie     Morris        NaN          NaN       8200 Meadow Ridge   \n",
       "3968       Tori   WILLIAMS        NaN          NaN  3779 W Elk Valley Lane   \n",
       "\n",
       "              City        State        Country Zip Code  Total Dollars Spent  \\\n",
       "794           Bend       Oregon  United States    97703                59.97   \n",
       "945         Hamden  Connecticut  United States    06528                79.99   \n",
       "2289          Bend       Oregon  United States    97703               144.99   \n",
       "2613     Clarkston     Michigan  United States    84348               131.96   \n",
       "3968  South Jordan         Utah  United States    84009               289.97   \n",
       "\n",
       "      Total Number of Orders city state  Lat  Long  \n",
       "794                        3  NaN   NaN  NaN   NaN  \n",
       "945                        1  NaN   NaN  NaN   NaN  \n",
       "2289                       2  NaN   NaN  NaN   NaN  \n",
       "2613                       4  NaN   NaN  NaN   NaN  \n",
       "3968                       1  NaN   NaN  NaN   NaN  "
      ]
     },
     "execution_count": 39,
     "metadata": {},
     "output_type": "execute_result"
    }
   ],
   "source": [
    "user_df[user_df.city.isnull()]"
   ]
  },
  {
   "cell_type": "code",
   "execution_count": 40,
   "metadata": {
    "collapsed": false
   },
   "outputs": [],
   "source": [
    "user_df.loc[794,'Lat']=44.06\n",
    "user_df.loc[794,'Long']=-121.34\n",
    "user_df.loc[945,'Lat']=41.41\n",
    "user_df.loc[945,'Long']=-72.91\n",
    "user_df.loc[2289,'Lat']=44.06\n",
    "user_df.loc[2289,'Long']=-121.34\n",
    "user_df.loc[2613,'Lat']=42.75\n",
    "user_df.loc[2613,'Long']=-83.46\n",
    "user_df.loc[3968,'Lat']=40.57\n",
    "user_df.loc[3968,'Long']=-111.98"
   ]
  },
  {
   "cell_type": "code",
   "execution_count": 41,
   "metadata": {
    "collapsed": false
   },
   "outputs": [],
   "source": [
    "store_df.loc[47,'Lat']=25.70\n",
    "store_df.loc[47,'Long']=-80.29"
   ]
  },
  {
   "cell_type": "markdown",
   "metadata": {},
   "source": [
    "### Getting the data final and ready for analysis"
   ]
  },
  {
   "cell_type": "code",
   "execution_count": 42,
   "metadata": {
    "collapsed": false
   },
   "outputs": [],
   "source": [
    "user_df = user_df[['First Name','Last Name','Ambassador','Professional','Address1','City','State','Country','Zip Code','Total Dollars Spent','Total Number of Orders','Lat','Long']]\n",
    "store_df = store_df[['Store Name','Street Address','City','State','Zip Code','Lat','Long']]"
   ]
  },
  {
   "cell_type": "code",
   "execution_count": 43,
   "metadata": {
    "collapsed": false
   },
   "outputs": [
    {
     "data": {
      "text/html": [
       "<div>\n",
       "<table border=\"1\" class=\"dataframe\">\n",
       "  <thead>\n",
       "    <tr style=\"text-align: right;\">\n",
       "      <th></th>\n",
       "      <th>Store Name</th>\n",
       "      <th>Street Address</th>\n",
       "      <th>City</th>\n",
       "      <th>State</th>\n",
       "      <th>Zip Code</th>\n",
       "      <th>Lat</th>\n",
       "      <th>Long</th>\n",
       "    </tr>\n",
       "  </thead>\n",
       "  <tbody>\n",
       "    <tr>\n",
       "      <th>0</th>\n",
       "      <td>Aerotech Designs</td>\n",
       "      <td>1132 4th Avenue</td>\n",
       "      <td>Coraopolis</td>\n",
       "      <td>PA</td>\n",
       "      <td>15108</td>\n",
       "      <td>40.51</td>\n",
       "      <td>-80.16</td>\n",
       "    </tr>\n",
       "    <tr>\n",
       "      <th>1</th>\n",
       "      <td>All3Sports</td>\n",
       "      <td>8601 Dunwoody Place</td>\n",
       "      <td>Atlanta</td>\n",
       "      <td>GA</td>\n",
       "      <td>30350</td>\n",
       "      <td>33.97</td>\n",
       "      <td>-84.32</td>\n",
       "    </tr>\n",
       "    <tr>\n",
       "      <th>2</th>\n",
       "      <td>Athletes Lounge</td>\n",
       "      <td>2671 NW Vaughn St</td>\n",
       "      <td>Portland</td>\n",
       "      <td>OR</td>\n",
       "      <td>97210</td>\n",
       "      <td>45.55</td>\n",
       "      <td>-122.73</td>\n",
       "    </tr>\n",
       "    <tr>\n",
       "      <th>3</th>\n",
       "      <td>Berkeley Sports Basement</td>\n",
       "      <td>2727 Milvia</td>\n",
       "      <td>BERKELEY</td>\n",
       "      <td>CA</td>\n",
       "      <td>94703</td>\n",
       "      <td>37.86</td>\n",
       "      <td>-122.27</td>\n",
       "    </tr>\n",
       "    <tr>\n",
       "      <th>4</th>\n",
       "      <td>Bicicletta</td>\n",
       "      <td>1480 GULF ROAD</td>\n",
       "      <td>POINT ROBERTS</td>\n",
       "      <td>WA</td>\n",
       "      <td>98281</td>\n",
       "      <td>48.98</td>\n",
       "      <td>-123.05</td>\n",
       "    </tr>\n",
       "  </tbody>\n",
       "</table>\n",
       "</div>"
      ],
      "text/plain": [
       "                 Store Name       Street Address           City State  \\\n",
       "0         Aerotech Designs       1132 4th Avenue     Coraopolis    PA   \n",
       "1                All3Sports  8601 Dunwoody Place        Atlanta    GA   \n",
       "2           Athletes Lounge    2671 NW Vaughn St       Portland    OR   \n",
       "3  Berkeley Sports Basement          2727 Milvia       BERKELEY    CA   \n",
       "4                Bicicletta       1480 GULF ROAD  POINT ROBERTS    WA   \n",
       "\n",
       "  Zip Code    Lat    Long  \n",
       "0    15108  40.51  -80.16  \n",
       "1    30350  33.97  -84.32  \n",
       "2    97210  45.55 -122.73  \n",
       "3    94703  37.86 -122.27  \n",
       "4    98281  48.98 -123.05  "
      ]
     },
     "execution_count": 43,
     "metadata": {},
     "output_type": "execute_result"
    }
   ],
   "source": [
    "store_df.head()"
   ]
  },
  {
   "cell_type": "markdown",
   "metadata": {},
   "source": [
    "### Separating out the Ambassadors, Professionals and Customers(All users except the Ambassadors and Customers) as we want to analyse the impact of Ambassadors/Professionals on the average user."
   ]
  },
  {
   "cell_type": "code",
   "execution_count": 44,
   "metadata": {
    "collapsed": false
   },
   "outputs": [],
   "source": [
    "amb_df = user_df[user_df.Ambassador.notnull()]\n",
    "pro_df = user_df[user_df.Professional.notnull()]\n",
    "cust_df = user_df[(user_df.Professional.isnull())&(user_df.Ambassador.isnull())] # The users which are not ambassadors or professionals"
   ]
  },
  {
   "cell_type": "markdown",
   "metadata": {},
   "source": [
    "## Now we create a map of all the users, ambassadors, professionals and the stores"
   ]
  },
  {
   "cell_type": "code",
   "execution_count": 45,
   "metadata": {
    "collapsed": false
   },
   "outputs": [
    {
     "data": {
      "image/png": "[encoded data removed]",
      "text/plain": [
       "<matplotlib.figure.Figure at 0xdcf7860>"
      ]
     },
     "metadata": {},
     "output_type": "display_data"
    }
   ],
   "source": [
    "ax = make_map()\n",
    "ax.scatter(user_df.Long,user_df.Lat,label='Users',color='darkturquoise')\n",
    "ax.scatter(amb_df.Long,amb_df.Lat,color='orange',label='Ambassador')\n",
    "ax.scatter(store_df.Long,store_df.Lat,color='brown',label='Stores')\n",
    "ax.scatter(pro_df.Long,pro_df.Lat,color='midnightblue',label='Professional',zorder=1)\n",
    "ax.legend()\n",
    "plt.show()"
   ]
  },
  {
   "cell_type": "code",
   "execution_count": 46,
   "metadata": {
    "collapsed": true
   },
   "outputs": [],
   "source": [
    "import geopy"
   ]
  },
  {
   "cell_type": "markdown",
   "metadata": {},
   "source": [
    "### Grouping the data by DMAs and aggreate the spendings and purchases in each dma"
   ]
  },
  {
   "cell_type": "code",
   "execution_count": 47,
   "metadata": {
    "collapsed": true
   },
   "outputs": [],
   "source": [
    "user_grp = user_df.groupby('Zip Code',as_index=False).agg({'Total Dollars Spent':'sum','Total Number of Orders':'sum'})"
   ]
  },
  {
   "cell_type": "code",
   "execution_count": 48,
   "metadata": {
    "collapsed": true
   },
   "outputs": [],
   "source": [
    "cust_grp = cust_df.groupby('Zip Code',as_index=False).agg({'Total Dollars Spent':'sum','Total Number of Orders':'sum'})"
   ]
  },
  {
   "cell_type": "code",
   "execution_count": 49,
   "metadata": {
    "collapsed": false
   },
   "outputs": [
    {
     "data": {
      "text/plain": [
       "Zip Code                  2660\n",
       "Total Dollars Spent       2660\n",
       "Total Number of Orders    2660\n",
       "dtype: int64"
      ]
     },
     "execution_count": 49,
     "metadata": {},
     "output_type": "execute_result"
    }
   ],
   "source": [
    "cust_grp.count()"
   ]
  },
  {
   "cell_type": "code",
   "execution_count": 50,
   "metadata": {
    "collapsed": false
   },
   "outputs": [
    {
     "data": {
      "text/plain": [
       "Zip Code                  2697\n",
       "Total Dollars Spent       2697\n",
       "Total Number of Orders    2697\n",
       "dtype: int64"
      ]
     },
     "execution_count": 50,
     "metadata": {},
     "output_type": "execute_result"
    }
   ],
   "source": [
    "user_grp.count()"
   ]
  },
  {
   "cell_type": "markdown",
   "metadata": {},
   "source": [
    "### Now we have to get the Lat and Long from our DF to the new segragated DF"
   ]
  },
  {
   "cell_type": "code",
   "execution_count": 51,
   "metadata": {
    "collapsed": false
   },
   "outputs": [],
   "source": [
    "# function to get Lat and Long data for each DMA\n",
    "def get_coords(df):\n",
    "    df_pos = df[['Zip Code','Lat','Long']]\n",
    "    df_pos.drop_duplicates(inplace=True)\n",
    "    return df_pos"
   ]
  },
  {
   "cell_type": "code",
   "execution_count": 52,
   "metadata": {
    "collapsed": false
   },
   "outputs": [
    {
     "name": "stderr",
     "output_type": "stream",
     "text": [
      "C:\\Users\\Samsung\\Anaconda2\\lib\\site-packages\\pandas\\util\\decorators.py:91: SettingWithCopyWarning: \n",
      "A value is trying to be set on a copy of a slice from a DataFrame\n",
      "\n",
      "See the caveats in the documentation: http://pandas.pydata.org/pandas-docs/stable/indexing.html#indexing-view-versus-copy\n",
      "  return func(*args, **kwargs)\n"
     ]
    }
   ],
   "source": [
    "cust_coords = get_coords(cust_df)\n",
    "user_coords = get_coords(user_df)"
   ]
  },
  {
   "cell_type": "code",
   "execution_count": 53,
   "metadata": {
    "collapsed": false
   },
   "outputs": [
    {
     "data": {
      "text/plain": [
       "Zip Code    2660\n",
       "Lat         2660\n",
       "Long        2660\n",
       "dtype: int64"
      ]
     },
     "execution_count": 53,
     "metadata": {},
     "output_type": "execute_result"
    }
   ],
   "source": [
    "# user_coords.count()\n",
    "cust_coords.count()"
   ]
  },
  {
   "cell_type": "code",
   "execution_count": 54,
   "metadata": {
    "collapsed": false
   },
   "outputs": [
    {
     "data": {
      "text/plain": [
       "Zip Code                  2697\n",
       "Total Dollars Spent       2697\n",
       "Total Number of Orders    2697\n",
       "Lat                       2697\n",
       "Long                      2697\n",
       "dtype: int64"
      ]
     },
     "execution_count": 54,
     "metadata": {},
     "output_type": "execute_result"
    }
   ],
   "source": [
    "user_grp = user_grp.merge(user_coords,how='left',on='Zip Code')\n",
    "user_grp.count()"
   ]
  },
  {
   "cell_type": "code",
   "execution_count": 55,
   "metadata": {
    "collapsed": false
   },
   "outputs": [
    {
     "data": {
      "text/plain": [
       "Zip Code                  2660\n",
       "Total Dollars Spent       2660\n",
       "Total Number of Orders    2660\n",
       "Lat                       2660\n",
       "Long                      2660\n",
       "dtype: int64"
      ]
     },
     "execution_count": 55,
     "metadata": {},
     "output_type": "execute_result"
    }
   ],
   "source": [
    "cust_grp = cust_grp.merge(cust_coords,how='left',on='Zip Code')\n",
    "cust_grp.count()"
   ]
  },
  {
   "cell_type": "code",
   "execution_count": 56,
   "metadata": {
    "collapsed": false
   },
   "outputs": [],
   "source": [
    "amb_pos = get_coords(amb_df)\n",
    "amb_coords = [tuple(x) for x in amb_pos[['Lat','Long']].values]"
   ]
  },
  {
   "cell_type": "code",
   "execution_count": 57,
   "metadata": {
    "collapsed": false
   },
   "outputs": [
    {
     "data": {
      "text/plain": [
       "86"
      ]
     },
     "execution_count": 57,
     "metadata": {},
     "output_type": "execute_result"
    }
   ],
   "source": [
    "len(amb_coords)"
   ]
  },
  {
   "cell_type": "code",
   "execution_count": 58,
   "metadata": {
    "collapsed": false
   },
   "outputs": [
    {
     "data": {
      "text/html": [
       "<div>\n",
       "<table border=\"1\" class=\"dataframe\">\n",
       "  <thead>\n",
       "    <tr style=\"text-align: right;\">\n",
       "      <th></th>\n",
       "      <th>Zip Code</th>\n",
       "      <th>Total Dollars Spent</th>\n",
       "      <th>Total Number of Orders</th>\n",
       "      <th>Lat</th>\n",
       "      <th>Long</th>\n",
       "    </tr>\n",
       "  </thead>\n",
       "  <tbody>\n",
       "    <tr>\n",
       "      <th>0</th>\n",
       "      <td>01033</td>\n",
       "      <td>169.98</td>\n",
       "      <td>1</td>\n",
       "      <td>42.26</td>\n",
       "      <td>-72.52</td>\n",
       "    </tr>\n",
       "    <tr>\n",
       "      <th>1</th>\n",
       "      <td>01036</td>\n",
       "      <td>59.99</td>\n",
       "      <td>1</td>\n",
       "      <td>42.06</td>\n",
       "      <td>-72.41</td>\n",
       "    </tr>\n",
       "    <tr>\n",
       "      <th>2</th>\n",
       "      <td>01062</td>\n",
       "      <td>241.98</td>\n",
       "      <td>3</td>\n",
       "      <td>42.32</td>\n",
       "      <td>-72.67</td>\n",
       "    </tr>\n",
       "    <tr>\n",
       "      <th>3</th>\n",
       "      <td>01532</td>\n",
       "      <td>705.87</td>\n",
       "      <td>9</td>\n",
       "      <td>42.31</td>\n",
       "      <td>-71.64</td>\n",
       "    </tr>\n",
       "    <tr>\n",
       "      <th>4</th>\n",
       "      <td>01545</td>\n",
       "      <td>104.98</td>\n",
       "      <td>1</td>\n",
       "      <td>42.30</td>\n",
       "      <td>-71.71</td>\n",
       "    </tr>\n",
       "  </tbody>\n",
       "</table>\n",
       "</div>"
      ],
      "text/plain": [
       "  Zip Code  Total Dollars Spent  Total Number of Orders    Lat   Long\n",
       "0    01033               169.98                       1  42.26 -72.52\n",
       "1    01036                59.99                       1  42.06 -72.41\n",
       "2    01062               241.98                       3  42.32 -72.67\n",
       "3    01532               705.87                       9  42.31 -71.64\n",
       "4    01545               104.98                       1  42.30 -71.71"
      ]
     },
     "execution_count": 58,
     "metadata": {},
     "output_type": "execute_result"
    }
   ],
   "source": [
    "user_grp.head()"
   ]
  },
  {
   "cell_type": "code",
   "execution_count": 59,
   "metadata": {
    "collapsed": true
   },
   "outputs": [],
   "source": [
    "from geopy.distance import great_circle"
   ]
  },
  {
   "cell_type": "code",
   "execution_count": 60,
   "metadata": {
    "collapsed": true
   },
   "outputs": [],
   "source": [
    "# We get the number of Amabassadors within 25 miles of each DMA\n",
    "amb_count = []\n",
    "for usr_loc in user_grp[['Lat','Long']].values:\n",
    "    usr_coords = tuple(usr_loc)\n",
    "    count = 0\n",
    "    for amb_coord in amb_coords:\n",
    "        dist = great_circle(usr_coords,amb_coord).miles\n",
    "        if dist<=25:\n",
    "            count = count+1\n",
    "    amb_count.append(count)"
   ]
  },
  {
   "cell_type": "code",
   "execution_count": 61,
   "metadata": {
    "collapsed": false
   },
   "outputs": [],
   "source": [
    "user_grp['Nearby Ambassadors'] = amb_count"
   ]
  },
  {
   "cell_type": "code",
   "execution_count": 62,
   "metadata": {
    "collapsed": true
   },
   "outputs": [],
   "source": [
    "# We get the number of Amabassadors within 25 miles of each DMA\n",
    "amb_count = []\n",
    "for cust_loc in cust_grp[['Lat','Long']].values:\n",
    "    cust_coords = tuple(cust_loc)\n",
    "    count = 0\n",
    "    for amb_coord in amb_coords:\n",
    "        dist = great_circle(cust_coords,amb_coord).miles\n",
    "        if dist<=25:\n",
    "            count = count+1\n",
    "    amb_count.append(count)"
   ]
  },
  {
   "cell_type": "code",
   "execution_count": 63,
   "metadata": {
    "collapsed": true
   },
   "outputs": [],
   "source": [
    "cust_grp['Nearby Ambassadors'] = amb_count"
   ]
  },
  {
   "cell_type": "markdown",
   "metadata": {},
   "source": [
    "### We see the correlation between Total Dollars Spent and Total number of Orders"
   ]
  },
  {
   "cell_type": "code",
   "execution_count": 64,
   "metadata": {
    "collapsed": false
   },
   "outputs": [
    {
     "data": {
      "text/html": [
       "<div>\n",
       "<table border=\"1\" class=\"dataframe\">\n",
       "  <thead>\n",
       "    <tr style=\"text-align: right;\">\n",
       "      <th></th>\n",
       "      <th>Total Dollars Spent</th>\n",
       "      <th>Total Number of Orders</th>\n",
       "      <th>Lat</th>\n",
       "      <th>Long</th>\n",
       "    </tr>\n",
       "  </thead>\n",
       "  <tbody>\n",
       "    <tr>\n",
       "      <th>Total Dollars Spent</th>\n",
       "      <td>1.000000</td>\n",
       "      <td>0.794274</td>\n",
       "      <td>0.000783</td>\n",
       "      <td>-0.001415</td>\n",
       "    </tr>\n",
       "    <tr>\n",
       "      <th>Total Number of Orders</th>\n",
       "      <td>0.794274</td>\n",
       "      <td>1.000000</td>\n",
       "      <td>0.001507</td>\n",
       "      <td>0.009562</td>\n",
       "    </tr>\n",
       "    <tr>\n",
       "      <th>Lat</th>\n",
       "      <td>0.000783</td>\n",
       "      <td>0.001507</td>\n",
       "      <td>1.000000</td>\n",
       "      <td>0.086118</td>\n",
       "    </tr>\n",
       "    <tr>\n",
       "      <th>Long</th>\n",
       "      <td>-0.001415</td>\n",
       "      <td>0.009562</td>\n",
       "      <td>0.086118</td>\n",
       "      <td>1.000000</td>\n",
       "    </tr>\n",
       "  </tbody>\n",
       "</table>\n",
       "</div>"
      ],
      "text/plain": [
       "                        Total Dollars Spent  Total Number of Orders       Lat  \\\n",
       "Total Dollars Spent                1.000000                0.794274  0.000783   \n",
       "Total Number of Orders             0.794274                1.000000  0.001507   \n",
       "Lat                                0.000783                0.001507  1.000000   \n",
       "Long                              -0.001415                0.009562  0.086118   \n",
       "\n",
       "                            Long  \n",
       "Total Dollars Spent    -0.001415  \n",
       "Total Number of Orders  0.009562  \n",
       "Lat                     0.086118  \n",
       "Long                    1.000000  "
      ]
     },
     "execution_count": 64,
     "metadata": {},
     "output_type": "execute_result"
    }
   ],
   "source": [
    "cust_df.corr()"
   ]
  },
  {
   "cell_type": "markdown",
   "metadata": {},
   "source": [
    "##### This suggets a strong correlation between Total Dollars Spent and Total Number of Orders"
   ]
  },
  {
   "cell_type": "markdown",
   "metadata": {},
   "source": [
    "## Now we see if these two groups are really diferent or not"
   ]
  },
  {
   "cell_type": "markdown",
   "metadata": {},
   "source": [
    "### Creating DF for DMAs with no ambassadors within 25 miles"
   ]
  },
  {
   "cell_type": "code",
   "execution_count": 65,
   "metadata": {
    "collapsed": false
   },
   "outputs": [
    {
     "name": "stdout",
     "output_type": "stream",
     "text": [
      "Total DMAS with no nearby ambassadors:  1464\n",
      "Average earning per such DMA:  250.798654372\n",
      "Average orders per such DMA:  2.34426229508\n"
     ]
    }
   ],
   "source": [
    "tmp_nAdf = cust_grp[cust_grp['Nearby Ambassadors']==0]\n",
    "print \"Total DMAS with no nearby ambassadors: \", len(tmp_nAdf)\n",
    "print \"Average earning per such DMA: \", tmp_nAdf['Total Dollars Spent'].mean()\n",
    "print \"Average orders per such DMA: \", tmp_nAdf['Total Number of Orders'].mean()"
   ]
  },
  {
   "cell_type": "markdown",
   "metadata": {},
   "source": [
    "### We see the distribution for the purchases and spendings"
   ]
  },
  {
   "cell_type": "code",
   "execution_count": 66,
   "metadata": {
    "collapsed": false,
    "scrolled": false
   },
   "outputs": [
    {
     "data": {
      "image/png": "[encoded data removed]",
      "text/plain": [
       "<matplotlib.figure.Figure at 0x1083af60>"
      ]
     },
     "metadata": {},
     "output_type": "display_data"
    }
   ],
   "source": [
    "plt.hist(tmp_nAdf['Total Number of Orders'])\n",
    "plt.title('Number of orders')\n",
    "plt.show()"
   ]
  },
  {
   "cell_type": "code",
   "execution_count": 67,
   "metadata": {
    "collapsed": false,
    "scrolled": false
   },
   "outputs": [
    {
     "data": {
      "image/png": "[encoded data removed]",
      "text/plain": [
       "<matplotlib.figure.Figure at 0x10a28710>"
      ]
     },
     "metadata": {},
     "output_type": "display_data"
    }
   ],
   "source": [
    "plt.hist(tmp_nAdf['Total Dollars Spent'])\n",
    "plt.title('Total Dollars Spent')\n",
    "plt.show()"
   ]
  },
  {
   "cell_type": "markdown",
   "metadata": {},
   "source": [
    "### Now we create a DF for the customers with an ambassador nearby"
   ]
  },
  {
   "cell_type": "code",
   "execution_count": 68,
   "metadata": {
    "collapsed": false
   },
   "outputs": [
    {
     "name": "stdout",
     "output_type": "stream",
     "text": [
      "Total DMAS with no nearby ambassadors:  1196\n",
      "Average earning per such DMA:  303.685091973\n",
      "Average orders per such DMA:  2.8143812709\n"
     ]
    }
   ],
   "source": [
    "tmp_Adf = cust_grp[cust_grp['Nearby Ambassadors']>0]\n",
    "print \"Total DMAS with no nearby ambassadors: \", len(tmp_Adf)\n",
    "print \"Average earning per such DMA: \", tmp_Adf['Total Dollars Spent'].mean()\n",
    "print \"Average orders per such DMA: \", tmp_Adf['Total Number of Orders'].mean()"
   ]
  },
  {
   "cell_type": "markdown",
   "metadata": {},
   "source": [
    "### And visualize the distribution of the spendings and purchases in those DMAs"
   ]
  },
  {
   "cell_type": "code",
   "execution_count": 69,
   "metadata": {
    "collapsed": false,
    "scrolled": false
   },
   "outputs": [
    {
     "data": {
      "image/png": "[encoded data removed]",
      "text/plain": [
       "<matplotlib.figure.Figure at 0x10db6b38>"
      ]
     },
     "metadata": {},
     "output_type": "display_data"
    }
   ],
   "source": [
    "plt.hist(tmp_Adf['Total Number of Orders'])\n",
    "plt.title('Number of orders')\n",
    "plt.show()"
   ]
  },
  {
   "cell_type": "code",
   "execution_count": 70,
   "metadata": {
    "collapsed": false,
    "scrolled": false
   },
   "outputs": [
    {
     "data": {
      "image/png": "[encoded data removed]",
      "text/plain": [
       "<matplotlib.figure.Figure at 0x10f6de80>"
      ]
     },
     "metadata": {},
     "output_type": "display_data"
    }
   ],
   "source": [
    "plt.hist(tmp_Adf['Total Dollars Spent'])\n",
    "plt.title('Total Dollars Spent')\n",
    "plt.show()"
   ]
  },
  {
   "cell_type": "markdown",
   "metadata": {},
   "source": [
    "### Now we calculate the T-test for the means of the two groups. If the p-value is smaller than the threshold, e.g. 1%, 5% or 10%, then we reject the null hypothesis of equal averages."
   ]
  },
  {
   "cell_type": "code",
   "execution_count": 71,
   "metadata": {
    "collapsed": false
   },
   "outputs": [
    {
     "data": {
      "text/plain": [
       "Ttest_indResult(statistic=3.7871041915762582, pvalue=0.00015616277842561067)"
      ]
     },
     "execution_count": 71,
     "metadata": {},
     "output_type": "execute_result"
    }
   ],
   "source": [
    "from scipy import stats\n",
    "stats.ttest_ind(tmp_Adf['Total Dollars Spent'],tmp_nAdf['Total Dollars Spent'],equal_var = False)"
   ]
  },
  {
   "cell_type": "code",
   "execution_count": 72,
   "metadata": {
    "collapsed": false
   },
   "outputs": [
    {
     "name": "stdout",
     "output_type": "stream",
     "text": [
      "Average spending in a DMA with an Ambassador nearby:  303.685091973\n"
     ]
    }
   ],
   "source": [
    "print \"Average spending in a DMA with an Ambassador nearby: \",tmp_Adf['Total Dollars Spent'].mean()"
   ]
  },
  {
   "cell_type": "code",
   "execution_count": 73,
   "metadata": {
    "collapsed": false
   },
   "outputs": [
    {
     "name": "stdout",
     "output_type": "stream",
     "text": [
      "Average spending in a DMA with no Ambassador nearby:  250.798654372\n"
     ]
    }
   ],
   "source": [
    "print \"Average spending in a DMA with no Ambassador nearby: \",tmp_nAdf['Total Dollars Spent'].mean()"
   ]
  },
  {
   "cell_type": "code",
   "execution_count": 74,
   "metadata": {
    "collapsed": false
   },
   "outputs": [
    {
     "data": {
      "text/plain": [
       "Ttest_indResult(statistic=3.6752498365270938, pvalue=0.00024237873722485654)"
      ]
     },
     "execution_count": 74,
     "metadata": {},
     "output_type": "execute_result"
    }
   ],
   "source": [
    "stats.ttest_ind(tmp_Adf['Total Number of Orders'],tmp_nAdf['Total Number of Orders'],equal_var = False)"
   ]
  },
  {
   "cell_type": "code",
   "execution_count": 75,
   "metadata": {
    "collapsed": false
   },
   "outputs": [
    {
     "name": "stdout",
     "output_type": "stream",
     "text": [
      "Average purchases in a DMA with an Ambassador nearby:  2.8143812709\n"
     ]
    }
   ],
   "source": [
    "print \"Average purchases in a DMA with an Ambassador nearby: \",tmp_Adf['Total Number of Orders'].mean()"
   ]
  },
  {
   "cell_type": "code",
   "execution_count": 76,
   "metadata": {
    "collapsed": false
   },
   "outputs": [
    {
     "name": "stdout",
     "output_type": "stream",
     "text": [
      "Average purchases in a DMA with no Ambassador nearby:  2.34426229508\n"
     ]
    }
   ],
   "source": [
    "print \"Average purchases in a DMA with no Ambassador nearby: \",tmp_nAdf['Total Number of Orders'].mean()"
   ]
  },
  {
   "cell_type": "markdown",
   "metadata": {},
   "source": [
    "##### This tells us that the DMAs with an Ambassador within 25 miles definitely benefits from the ambassador's presence"
   ]
  },
  {
   "cell_type": "markdown",
   "metadata": {},
   "source": [
    "### Now we see what effect multiple amabassadors have in a single DMA rather than just one"
   ]
  },
  {
   "cell_type": "code",
   "execution_count": 77,
   "metadata": {
    "collapsed": false
   },
   "outputs": [
    {
     "data": {
      "text/plain": [
       "Zip Code      86\n",
       "Ambassador    86\n",
       "dtype: int64"
      ]
     },
     "execution_count": 77,
     "metadata": {},
     "output_type": "execute_result"
    }
   ],
   "source": [
    "amb_grp = amb_df.groupby('Zip Code',as_index=False).agg({'Ambassador':'count'})\n",
    "amb_grp.count()"
   ]
  },
  {
   "cell_type": "code",
   "execution_count": 78,
   "metadata": {
    "collapsed": false
   },
   "outputs": [
    {
     "data": {
      "text/plain": [
       "Zip Code        5\n",
       "Professional    5\n",
       "dtype: int64"
      ]
     },
     "execution_count": 78,
     "metadata": {},
     "output_type": "execute_result"
    }
   ],
   "source": [
    "pro_grp = pro_df.groupby('Zip Code',as_index=False).agg({'Professional':'count'})\n",
    "pro_grp.count()"
   ]
  },
  {
   "cell_type": "code",
   "execution_count": 79,
   "metadata": {
    "collapsed": true
   },
   "outputs": [],
   "source": [
    "cust_zips = cust_grp['Zip Code'].unique().tolist()\n",
    "amb_zips = amb_grp[\"Zip Code\"].unique().tolist()\n",
    "pro_zips = pro_grp['Zip Code'].unique().tolist()"
   ]
  },
  {
   "cell_type": "code",
   "execution_count": 80,
   "metadata": {
    "collapsed": false
   },
   "outputs": [],
   "source": [
    "common_amb_zips=list(set(cust_zips)&set(amb_zips))"
   ]
  },
  {
   "cell_type": "code",
   "execution_count": 81,
   "metadata": {
    "collapsed": false
   },
   "outputs": [],
   "source": [
    "common_pro_zips=list(set(cust_zips)&set(pro_zips))"
   ]
  },
  {
   "cell_type": "code",
   "execution_count": 82,
   "metadata": {
    "collapsed": true
   },
   "outputs": [],
   "source": [
    "amb_merge=amb_grp[amb_grp['Zip Code'].isin(common_amb_zips)]\n",
    "pro_merge=pro_grp[pro_grp['Zip Code'].isin(common_pro_zips)]\n",
    "cust_grp_tmp = cust_grp.merge(amb_merge,how='left',on='Zip Code')\n",
    "cust_grp_tmp = cust_grp_tmp.merge(pro_merge,how='left',on='Zip Code')"
   ]
  },
  {
   "cell_type": "code",
   "execution_count": 83,
   "metadata": {
    "collapsed": false
   },
   "outputs": [],
   "source": [
    "cust_grp_tmp.fillna(0,inplace=True)"
   ]
  },
  {
   "cell_type": "code",
   "execution_count": 84,
   "metadata": {
    "collapsed": false
   },
   "outputs": [],
   "source": [
    "tmp_nA = cust_grp_tmp[cust_grp_tmp.Ambassador==0] #Df with 0 Ambassador\n",
    "tmp_A = cust_grp_tmp[cust_grp_tmp.Ambassador==1] #Df with 1 Ambassador\n",
    "tmp_mA = cust_grp_tmp[cust_grp_tmp.Ambassador>1] #Df with >1 Ambassador\n",
    "tmp_p = cust_grp_tmp[cust_grp_tmp.Professional>0] #Df with >0 Pro"
   ]
  },
  {
   "cell_type": "code",
   "execution_count": 85,
   "metadata": {
    "collapsed": false,
    "scrolled": true
   },
   "outputs": [],
   "source": [
    "tmp_aA = cust_grp_tmp[cust_grp_tmp.Ambassador>0] #Df with >0 Ambassador"
   ]
  },
  {
   "cell_type": "markdown",
   "metadata": {},
   "source": [
    "#### T test between DMAs with a single ambassador and DMAs with multiple ambassadors"
   ]
  },
  {
   "cell_type": "code",
   "execution_count": 86,
   "metadata": {
    "collapsed": false
   },
   "outputs": [
    {
     "data": {
      "text/plain": [
       "Ttest_indResult(statistic=-0.75584601438245558, pvalue=0.58704740827806412)"
      ]
     },
     "execution_count": 86,
     "metadata": {},
     "output_type": "execute_result"
    }
   ],
   "source": [
    "stats.ttest_ind(tmp_A['Total Dollars Spent'],tmp_mA['Total Dollars Spent'],equal_var=False)"
   ]
  },
  {
   "cell_type": "code",
   "execution_count": 87,
   "metadata": {
    "collapsed": false
   },
   "outputs": [
    {
     "data": {
      "text/plain": [
       "Ttest_indResult(statistic=-0.68209537080353488, pvalue=0.617172777639311)"
      ]
     },
     "execution_count": 87,
     "metadata": {},
     "output_type": "execute_result"
    }
   ],
   "source": [
    "# Total Dollars Spent Total Number of Orders\n",
    "stats.ttest_ind(tmp_A['Total Number of Orders'],tmp_mA['Total Number of Orders'],equal_var=False)"
   ]
  },
  {
   "cell_type": "code",
   "execution_count": 88,
   "metadata": {
    "collapsed": false
   },
   "outputs": [
    {
     "name": "stdout",
     "output_type": "stream",
     "text": [
      "Average purchases in a DMA with one Ambassador:  3.36\n"
     ]
    }
   ],
   "source": [
    "print \"Average purchases in a DMA with one Ambassador: \",tmp_A['Total Number of Orders'].mean()"
   ]
  },
  {
   "cell_type": "code",
   "execution_count": 89,
   "metadata": {
    "collapsed": false
   },
   "outputs": [
    {
     "name": "stdout",
     "output_type": "stream",
     "text": [
      "Average purchases in a DMA with multiple Ambassadors:  8.5\n"
     ]
    }
   ],
   "source": [
    "print \"Average purchases in a DMA with multiple Ambassadors: \",tmp_mA['Total Number of Orders'].mean()"
   ]
  },
  {
   "cell_type": "code",
   "execution_count": 90,
   "metadata": {
    "collapsed": false
   },
   "outputs": [
    {
     "name": "stdout",
     "output_type": "stream",
     "text": [
      "Average spending in a DMA with one Ambassador:  313.8628\n"
     ]
    }
   ],
   "source": [
    "print \"Average spending in a DMA with one Ambassador: \",tmp_A['Total Dollars Spent'].mean()"
   ]
  },
  {
   "cell_type": "code",
   "execution_count": 91,
   "metadata": {
    "collapsed": false
   },
   "outputs": [
    {
     "name": "stdout",
     "output_type": "stream",
     "text": [
      "Average spending in a DMA with multiple Ambassadors:  1092.975\n"
     ]
    }
   ],
   "source": [
    "print \"Average spending in a DMA with multiple Ambassadors: \",tmp_mA['Total Dollars Spent'].mean()"
   ]
  },
  {
   "cell_type": "code",
   "execution_count": 92,
   "metadata": {
    "collapsed": false
   },
   "outputs": [
    {
     "data": {
      "text/html": [
       "<div>\n",
       "<table border=\"1\" class=\"dataframe\">\n",
       "  <thead>\n",
       "    <tr style=\"text-align: right;\">\n",
       "      <th></th>\n",
       "      <th>Zip Code</th>\n",
       "      <th>Total Dollars Spent</th>\n",
       "      <th>Total Number of Orders</th>\n",
       "      <th>Lat</th>\n",
       "      <th>Long</th>\n",
       "      <th>Nearby Ambassadors</th>\n",
       "      <th>Ambassador</th>\n",
       "      <th>Professional</th>\n",
       "    </tr>\n",
       "  </thead>\n",
       "  <tbody>\n",
       "    <tr>\n",
       "      <th>1675</th>\n",
       "      <td>60614</td>\n",
       "      <td>2121.46</td>\n",
       "      <td>16</td>\n",
       "      <td>41.83</td>\n",
       "      <td>-87.68</td>\n",
       "      <td>2</td>\n",
       "      <td>2.0</td>\n",
       "      <td>0.0</td>\n",
       "    </tr>\n",
       "    <tr>\n",
       "      <th>2418</th>\n",
       "      <td>93401</td>\n",
       "      <td>64.49</td>\n",
       "      <td>1</td>\n",
       "      <td>35.25</td>\n",
       "      <td>-120.62</td>\n",
       "      <td>1</td>\n",
       "      <td>2.0</td>\n",
       "      <td>0.0</td>\n",
       "    </tr>\n",
       "  </tbody>\n",
       "</table>\n",
       "</div>"
      ],
      "text/plain": [
       "     Zip Code  Total Dollars Spent  Total Number of Orders    Lat    Long  \\\n",
       "1675    60614              2121.46                      16  41.83  -87.68   \n",
       "2418    93401                64.49                       1  35.25 -120.62   \n",
       "\n",
       "      Nearby Ambassadors  Ambassador  Professional  \n",
       "1675                   2         2.0           0.0  \n",
       "2418                   1         2.0           0.0  "
      ]
     },
     "execution_count": 92,
     "metadata": {},
     "output_type": "execute_result"
    }
   ],
   "source": [
    "tmp_mA"
   ]
  },
  {
   "cell_type": "markdown",
   "metadata": {},
   "source": [
    "##### Although the mean statistic is pretty high in favour of mutiple ambassadors we fail to comfirm the alternate hypothesis given the high variance and few data points in the group with multiple amabassadors"
   ]
  },
  {
   "cell_type": "markdown",
   "metadata": {},
   "source": [
    "### Comparing professionals with ambassadors"
   ]
  },
  {
   "cell_type": "code",
   "execution_count": 93,
   "metadata": {
    "collapsed": false
   },
   "outputs": [
    {
     "data": {
      "text/plain": [
       "Ttest_indResult(statistic=3.4297662991298212, pvalue=0.0012045705623356948)"
      ]
     },
     "execution_count": 93,
     "metadata": {},
     "output_type": "execute_result"
    }
   ],
   "source": [
    "# Total Dollars Spent Total Number of Orders\n",
    "stats.ttest_ind(tmp_aA['Total Number of Orders'],tmp_p['Total Number of Orders'],equal_var=False)"
   ]
  },
  {
   "cell_type": "code",
   "execution_count": 94,
   "metadata": {
    "collapsed": false
   },
   "outputs": [
    {
     "data": {
      "text/plain": [
       "Ttest_indResult(statistic=3.9955290451128609, pvalue=0.0002069228599054246)"
      ]
     },
     "execution_count": 94,
     "metadata": {},
     "output_type": "execute_result"
    }
   ],
   "source": [
    "# Total Dollars Spent Total Number of Orders\n",
    "stats.ttest_ind(tmp_aA['Total Dollars Spent'],tmp_p['Total Dollars Spent'],equal_var=False)"
   ]
  },
  {
   "cell_type": "code",
   "execution_count": 95,
   "metadata": {
    "collapsed": false
   },
   "outputs": [
    {
     "name": "stdout",
     "output_type": "stream",
     "text": [
      "Average purchases in a DMA with Ambassadors:  3.55769230769\n"
     ]
    }
   ],
   "source": [
    "print \"Average purchases in a DMA with Ambassadors: \",tmp_aA['Total Number of Orders'].mean()"
   ]
  },
  {
   "cell_type": "code",
   "execution_count": 96,
   "metadata": {
    "collapsed": false
   },
   "outputs": [
    {
     "name": "stdout",
     "output_type": "stream",
     "text": [
      "Average purchases in a DMA with Professionals:  1.0\n"
     ]
    }
   ],
   "source": [
    "print \"Average purchases in a DMA with Professionals: \",tmp_p['Total Number of Orders'].mean()"
   ]
  },
  {
   "cell_type": "code",
   "execution_count": 97,
   "metadata": {
    "collapsed": false
   },
   "outputs": [
    {
     "name": "stdout",
     "output_type": "stream",
     "text": [
      "Average spending in a DMA with Ambassadors:  343.828653846\n"
     ]
    }
   ],
   "source": [
    "print \"Average spending in a DMA with Ambassadors: \",tmp_aA['Total Dollars Spent'].mean()"
   ]
  },
  {
   "cell_type": "code",
   "execution_count": 98,
   "metadata": {
    "collapsed": false
   },
   "outputs": [
    {
     "name": "stdout",
     "output_type": "stream",
     "text": [
      "Average spending in a DMA with Professionals:  44.175\n"
     ]
    }
   ],
   "source": [
    "print \"Average spending in a DMA with Professionals: \",tmp_p['Total Dollars Spent'].mean()"
   ]
  },
  {
   "cell_type": "markdown",
   "metadata": {},
   "source": [
    "##### This comparison shows us that professionals have not driven sales in a positive direction when comapred to ambassadors in a DMA"
   ]
  },
  {
   "cell_type": "markdown",
   "metadata": {},
   "source": [
    "### Now we analyse the effect of a store in a DMA"
   ]
  },
  {
   "cell_type": "code",
   "execution_count": 99,
   "metadata": {
    "collapsed": false
   },
   "outputs": [],
   "source": [
    "store_df['Store'] = store_df['Store Name']"
   ]
  },
  {
   "cell_type": "code",
   "execution_count": 100,
   "metadata": {
    "collapsed": true
   },
   "outputs": [],
   "source": [
    "store_grp = store_df.groupby('Zip Code',as_index=False).agg({'Store':'count'})"
   ]
  },
  {
   "cell_type": "code",
   "execution_count": 101,
   "metadata": {
    "collapsed": false
   },
   "outputs": [],
   "source": [
    "store_zips = store_grp['Zip Code'].tolist()"
   ]
  },
  {
   "cell_type": "code",
   "execution_count": 102,
   "metadata": {
    "collapsed": false
   },
   "outputs": [],
   "source": [
    "common_store_zips = list(set(store_zips)&set(cust_zips))"
   ]
  },
  {
   "cell_type": "code",
   "execution_count": 103,
   "metadata": {
    "collapsed": false
   },
   "outputs": [],
   "source": [
    "zip_merge = store_grp[store_grp['Zip Code'].isin(common_store_zips)]"
   ]
  },
  {
   "cell_type": "code",
   "execution_count": 104,
   "metadata": {
    "collapsed": false
   },
   "outputs": [],
   "source": [
    "cust_grp_tmp = cust_grp_tmp.merge(zip_merge,how='left',on='Zip Code')\n",
    "cust_grp_tmp.fillna(0,inplace=True)"
   ]
  },
  {
   "cell_type": "code",
   "execution_count": 105,
   "metadata": {
    "collapsed": true
   },
   "outputs": [],
   "source": [
    "tmp_nstore = cust_grp_tmp[cust_grp_tmp.Store==0] #Df with 0 stores\n",
    "tmp_store = cust_grp_tmp[cust_grp_tmp.Store>0] #Df with >0 stores"
   ]
  },
  {
   "cell_type": "code",
   "execution_count": 106,
   "metadata": {
    "collapsed": false
   },
   "outputs": [
    {
     "data": {
      "text/plain": [
       "Ttest_indResult(statistic=-3.0480958905478328, pvalue=0.0037803962976545747)"
      ]
     },
     "execution_count": 106,
     "metadata": {},
     "output_type": "execute_result"
    }
   ],
   "source": [
    "stats.ttest_ind(tmp_nstore['Total Dollars Spent'],tmp_store['Total Dollars Spent'],equal_var=False)"
   ]
  },
  {
   "cell_type": "code",
   "execution_count": 107,
   "metadata": {
    "collapsed": false,
    "scrolled": true
   },
   "outputs": [
    {
     "data": {
      "text/plain": [
       "Ttest_indResult(statistic=-2.9474580256956719, pvalue=0.0049720945497979084)"
      ]
     },
     "execution_count": 107,
     "metadata": {},
     "output_type": "execute_result"
    }
   ],
   "source": [
    "stats.ttest_ind(tmp_nstore['Total Number of Orders'],tmp_store['Total Number of Orders'],equal_var=False)"
   ]
  },
  {
   "cell_type": "code",
   "execution_count": 108,
   "metadata": {
    "collapsed": false
   },
   "outputs": [
    {
     "name": "stdout",
     "output_type": "stream",
     "text": [
      "Average purchases in a DMA with no stores:  2.52430156908\n"
     ]
    }
   ],
   "source": [
    "print \"Average purchases in a DMA with no stores: \",tmp_nstore['Total Number of Orders'].mean()"
   ]
  },
  {
   "cell_type": "code",
   "execution_count": 109,
   "metadata": {
    "collapsed": false
   },
   "outputs": [
    {
     "name": "stdout",
     "output_type": "stream",
     "text": [
      "Average purchases in a DMA with a store:  4.29787234043\n"
     ]
    }
   ],
   "source": [
    "print \"Average purchases in a DMA with a store: \",tmp_store['Total Number of Orders'].mean()"
   ]
  },
  {
   "cell_type": "code",
   "execution_count": 110,
   "metadata": {
    "collapsed": false
   },
   "outputs": [
    {
     "name": "stdout",
     "output_type": "stream",
     "text": [
      "Average spending in a DMA with no stores:  270.605970149\n"
     ]
    }
   ],
   "source": [
    "print \"Average spending in a DMA with no stores: \",tmp_nstore['Total Dollars Spent'].mean()"
   ]
  },
  {
   "cell_type": "code",
   "execution_count": 111,
   "metadata": {
    "collapsed": false
   },
   "outputs": [
    {
     "name": "stdout",
     "output_type": "stream",
     "text": [
      "Average spending in a DMA with a store:  495.387234043\n"
     ]
    }
   ],
   "source": [
    "print \"Average spending in a DMA with a store: \",tmp_store['Total Dollars Spent'].mean()"
   ]
  },
  {
   "cell_type": "markdown",
   "metadata": {},
   "source": [
    "##### This comparison shows us that stores are definitley driving up sales in their DMAs"
   ]
  },
  {
   "cell_type": "markdown",
   "metadata": {},
   "source": [
    "### We analyze the effect of an Ambassador in a DMA"
   ]
  },
  {
   "cell_type": "code",
   "execution_count": 112,
   "metadata": {
    "collapsed": false
   },
   "outputs": [
    {
     "data": {
      "text/plain": [
       "Ttest_indResult(statistic=-0.93933887650244063, pvalue=0.35191169744306883)"
      ]
     },
     "execution_count": 112,
     "metadata": {},
     "output_type": "execute_result"
    }
   ],
   "source": [
    "stats.ttest_ind(tmp_nA['Total Dollars Spent'],tmp_aA['Total Dollars Spent'],equal_var=False)"
   ]
  },
  {
   "cell_type": "markdown",
   "metadata": {},
   "source": [
    "##### We have to reject the alternate hypothesis and and conclude that Ambassadors dont have a major impact in their own DMA rather when they are uniformly distributed within 25 miles of DMA rather than clustered"
   ]
  }
 ],
 "metadata": {
  "kernelspec": {
   "display_name": "Python 2",
   "language": "python",
   "name": "python2"
  },
  "language_info": {
   "codemirror_mode": {
    "name": "ipython",
    "version": 2
   },
   "file_extension": ".py",
   "mimetype": "text/x-python",
   "name": "python",
   "nbconvert_exporter": "python",
   "pygments_lexer": "ipython2",
   "version": "2.7.13"
  }
 },
 "nbformat": 4,
 "nbformat_minor": 1
}
