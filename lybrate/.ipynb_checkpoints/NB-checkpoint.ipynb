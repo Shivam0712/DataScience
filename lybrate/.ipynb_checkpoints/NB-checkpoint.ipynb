{
 "cells": [
  {
   "cell_type": "markdown",
   "metadata": {},
   "source": [
    "## Lybrate Assignment"
   ]
  },
  {
   "cell_type": "markdown",
   "metadata": {},
   "source": [
    "*Importing the modules I plan on using.*"
   ]
  },
  {
   "cell_type": "code",
   "execution_count": 1,
   "metadata": {
    "collapsed": true
   },
   "outputs": [],
   "source": [
    "%matplotlib inline\n",
    "import numpy as np\n",
    "import scipy as sp\n",
    "import matplotlib as mpl\n",
    "import matplotlib.cm as cm\n",
    "import matplotlib.pyplot as plt\n",
    "import pandas as pd\n",
    "pd.set_option('display.width', 500)\n",
    "pd.set_option('display.max_columns', 100)\n",
    "pd.set_option('display.notebook_repr_html', True)\n",
    "import seaborn as sns\n",
    "sns.set_style(\"whitegrid\")\n",
    "sns.set_context(\"poster\")"
   ]
  },
  {
   "cell_type": "markdown",
   "metadata": {},
   "source": [
    "*Reading the CSV into a dataframe*"
   ]
  },
  {
   "cell_type": "code",
   "execution_count": 2,
   "metadata": {
    "collapsed": false
   },
   "outputs": [
    {
     "name": "stderr",
     "output_type": "stream",
     "text": [
      "C:\\Users\\Samsung\\Anaconda2\\lib\\site-packages\\ipykernel\\__main__.py:1: ParserWarning: Falling back to the 'python' engine because the 'c' engine does not support regex separators (separators > 1 char and different from '\\s+' are interpreted as regex); you can avoid this warning by specifying engine='python'.\n",
      "  if __name__ == '__main__':\n"
     ]
    }
   ],
   "source": [
    "df = pd.read_csv('text_category.csv',delimiter = '#@#')"
   ]
  },
  {
   "cell_type": "markdown",
   "metadata": {},
   "source": [
    "*Inspecting the dataframe;\n",
    "I can see that this a multi label problem where each item can have multiple labels, a first one of this sort for me*"
   ]
  },
  {
   "cell_type": "code",
   "execution_count": 3,
   "metadata": {
    "collapsed": false
   },
   "outputs": [
    {
     "data": {
      "text/html": [
       "<div>\n",
       "<style>\n",
       "    .dataframe thead tr:only-child th {\n",
       "        text-align: right;\n",
       "    }\n",
       "\n",
       "    .dataframe thead th {\n",
       "        text-align: left;\n",
       "    }\n",
       "\n",
       "    .dataframe tbody tr th {\n",
       "        vertical-align: top;\n",
       "    }\n",
       "</style>\n",
       "<table border=\"1\" class=\"dataframe\">\n",
       "  <thead>\n",
       "    <tr style=\"text-align: right;\">\n",
       "      <th></th>\n",
       "      <th>text</th>\n",
       "      <th>category</th>\n",
       "    </tr>\n",
       "  </thead>\n",
       "  <tbody>\n",
       "    <tr>\n",
       "      <th>0</th>\n",
       "      <td>I want to loose my belly fat and weight too So...</td>\n",
       "      <td>Losing Weight</td>\n",
       "    </tr>\n",
       "    <tr>\n",
       "      <th>1</th>\n",
       "      <td>My uncle's tooth are becoming black in color a...</td>\n",
       "      <td>Improving Oral &amp; Dental Health</td>\n",
       "    </tr>\n",
       "    <tr>\n",
       "      <th>2</th>\n",
       "      <td>Im 26 year old and having a 2 year baby, after...</td>\n",
       "      <td>Living with Urinary Incontinence</td>\n",
       "    </tr>\n",
       "    <tr>\n",
       "      <th>3</th>\n",
       "      <td>Everyday bleeding from nose sir. Pls Tell me a...</td>\n",
       "      <td>Treating a Nose Bleed</td>\n",
       "    </tr>\n",
       "    <tr>\n",
       "      <th>4</th>\n",
       "      <td>I am looking for treatment of my mother for SP...</td>\n",
       "      <td>Reducing Joint/Muscle Pains</td>\n",
       "    </tr>\n",
       "  </tbody>\n",
       "</table>\n",
       "</div>"
      ],
      "text/plain": [
       "                                                text                          category\n",
       "0  I want to loose my belly fat and weight too So...                     Losing Weight\n",
       "1  My uncle's tooth are becoming black in color a...    Improving Oral & Dental Health\n",
       "2  Im 26 year old and having a 2 year baby, after...  Living with Urinary Incontinence\n",
       "3  Everyday bleeding from nose sir. Pls Tell me a...             Treating a Nose Bleed\n",
       "4  I am looking for treatment of my mother for SP...       Reducing Joint/Muscle Pains"
      ]
     },
     "execution_count": 3,
     "metadata": {},
     "output_type": "execute_result"
    }
   ],
   "source": [
    "df.head()"
   ]
  },
  {
   "cell_type": "code",
   "execution_count": 4,
   "metadata": {
    "collapsed": false
   },
   "outputs": [
    {
     "data": {
      "text/plain": [
       "text        73897\n",
       "category    73897\n",
       "dtype: int64"
      ]
     },
     "execution_count": 4,
     "metadata": {},
     "output_type": "execute_result"
    }
   ],
   "source": [
    "df.count()"
   ]
  },
  {
   "cell_type": "markdown",
   "metadata": {},
   "source": [
    "Exploring the dataframe and the categories"
   ]
  },
  {
   "cell_type": "markdown",
   "metadata": {},
   "source": [
    "*Splitting mutiple labels into multiple columns*"
   ]
  },
  {
   "cell_type": "code",
   "execution_count": 5,
   "metadata": {
    "collapsed": false
   },
   "outputs": [
    {
     "data": {
      "text/plain": [
       "0    73897\n",
       "1     7469\n",
       "2     2761\n",
       "3      878\n",
       "4      129\n",
       "5        9\n",
       "dtype: int64"
      ]
     },
     "execution_count": 5,
     "metadata": {},
     "output_type": "execute_result"
    }
   ],
   "source": [
    "cat = df.category.unique().tolist()\n",
    "multi_df = df['category'].apply(lambda x: pd.Series(x.split(',')))\n",
    "multi_df.count()"
   ]
  },
  {
   "cell_type": "code",
   "execution_count": 6,
   "metadata": {
    "collapsed": false
   },
   "outputs": [],
   "source": [
    "multi_df['text'] = df['text']\n",
    "multi_df.rename(columns={0:'cat1',1:'cat2',2:'cat3',3:'cat4',4:'cat5',5:'cat6'},inplace=True)\n",
    "multi_df = multi_df[['text','cat1','cat2','cat3','cat4','cat5','cat6']]"
   ]
  },
  {
   "cell_type": "code",
   "execution_count": 7,
   "metadata": {
    "collapsed": false
   },
   "outputs": [
    {
     "data": {
      "text/html": [
       "<div>\n",
       "<style>\n",
       "    .dataframe thead tr:only-child th {\n",
       "        text-align: right;\n",
       "    }\n",
       "\n",
       "    .dataframe thead th {\n",
       "        text-align: left;\n",
       "    }\n",
       "\n",
       "    .dataframe tbody tr th {\n",
       "        vertical-align: top;\n",
       "    }\n",
       "</style>\n",
       "<table border=\"1\" class=\"dataframe\">\n",
       "  <thead>\n",
       "    <tr style=\"text-align: right;\">\n",
       "      <th></th>\n",
       "      <th>text</th>\n",
       "      <th>cat1</th>\n",
       "      <th>cat2</th>\n",
       "      <th>cat3</th>\n",
       "      <th>cat4</th>\n",
       "      <th>cat5</th>\n",
       "      <th>cat6</th>\n",
       "    </tr>\n",
       "  </thead>\n",
       "  <tbody>\n",
       "    <tr>\n",
       "      <th>0</th>\n",
       "      <td>I want to loose my belly fat and weight too So...</td>\n",
       "      <td>Losing Weight</td>\n",
       "      <td>NaN</td>\n",
       "      <td>NaN</td>\n",
       "      <td>NaN</td>\n",
       "      <td>NaN</td>\n",
       "      <td>NaN</td>\n",
       "    </tr>\n",
       "    <tr>\n",
       "      <th>1</th>\n",
       "      <td>My uncle's tooth are becoming black in color a...</td>\n",
       "      <td>Improving Oral &amp; Dental Health</td>\n",
       "      <td>NaN</td>\n",
       "      <td>NaN</td>\n",
       "      <td>NaN</td>\n",
       "      <td>NaN</td>\n",
       "      <td>NaN</td>\n",
       "    </tr>\n",
       "    <tr>\n",
       "      <th>2</th>\n",
       "      <td>Im 26 year old and having a 2 year baby, after...</td>\n",
       "      <td>Living with Urinary Incontinence</td>\n",
       "      <td>NaN</td>\n",
       "      <td>NaN</td>\n",
       "      <td>NaN</td>\n",
       "      <td>NaN</td>\n",
       "      <td>NaN</td>\n",
       "    </tr>\n",
       "    <tr>\n",
       "      <th>3</th>\n",
       "      <td>Everyday bleeding from nose sir. Pls Tell me a...</td>\n",
       "      <td>Treating a Nose Bleed</td>\n",
       "      <td>NaN</td>\n",
       "      <td>NaN</td>\n",
       "      <td>NaN</td>\n",
       "      <td>NaN</td>\n",
       "      <td>NaN</td>\n",
       "    </tr>\n",
       "    <tr>\n",
       "      <th>4</th>\n",
       "      <td>I am looking for treatment of my mother for SP...</td>\n",
       "      <td>Reducing Joint/Muscle Pains</td>\n",
       "      <td>NaN</td>\n",
       "      <td>NaN</td>\n",
       "      <td>NaN</td>\n",
       "      <td>NaN</td>\n",
       "      <td>NaN</td>\n",
       "    </tr>\n",
       "  </tbody>\n",
       "</table>\n",
       "</div>"
      ],
      "text/plain": [
       "                                                text                              cat1 cat2 cat3 cat4 cat5 cat6\n",
       "0  I want to loose my belly fat and weight too So...                     Losing Weight  NaN  NaN  NaN  NaN  NaN\n",
       "1  My uncle's tooth are becoming black in color a...    Improving Oral & Dental Health  NaN  NaN  NaN  NaN  NaN\n",
       "2  Im 26 year old and having a 2 year baby, after...  Living with Urinary Incontinence  NaN  NaN  NaN  NaN  NaN\n",
       "3  Everyday bleeding from nose sir. Pls Tell me a...             Treating a Nose Bleed  NaN  NaN  NaN  NaN  NaN\n",
       "4  I am looking for treatment of my mother for SP...       Reducing Joint/Muscle Pains  NaN  NaN  NaN  NaN  NaN"
      ]
     },
     "execution_count": 7,
     "metadata": {},
     "output_type": "execute_result"
    }
   ],
   "source": [
    "multi_df.head()"
   ]
  },
  {
   "cell_type": "markdown",
   "metadata": {},
   "source": [
    "Now we clean the text in the text(query) column and the categories."
   ]
  },
  {
   "cell_type": "markdown",
   "metadata": {},
   "source": [
    "*Removing whitespaces at the beginning and end of the string*"
   ]
  },
  {
   "cell_type": "code",
   "execution_count": 8,
   "metadata": {
    "collapsed": false,
    "scrolled": true
   },
   "outputs": [],
   "source": [
    "multi_df = multi_df.apply(lambda x: x.str.strip())"
   ]
  },
  {
   "cell_type": "markdown",
   "metadata": {},
   "source": [
    "*converting into lowecase*"
   ]
  },
  {
   "cell_type": "code",
   "execution_count": 9,
   "metadata": {
    "collapsed": false
   },
   "outputs": [],
   "source": [
    "multi_df = multi_df.apply(lambda x: x.str.lower())"
   ]
  },
  {
   "cell_type": "markdown",
   "metadata": {},
   "source": [
    "Now we prepare the labels to feed to the multilabel binarizer to get the target variable y as the problem at hand is a multilabel classifier rather than a basic multiclass classifier"
   ]
  },
  {
   "cell_type": "markdown",
   "metadata": {},
   "source": [
    "*Getting the list of columns of categories in our new dataframe*"
   ]
  },
  {
   "cell_type": "code",
   "execution_count": 10,
   "metadata": {
    "collapsed": false
   },
   "outputs": [],
   "source": [
    "categories = multi_df.columns[1:].tolist()"
   ]
  },
  {
   "cell_type": "markdown",
   "metadata": {},
   "source": [
    "*Merging all the different cateogory columns into 1(how it was before) after the text processing of the cateogories; this is what we will feed to the multilabel binarizer*"
   ]
  },
  {
   "cell_type": "code",
   "execution_count": 11,
   "metadata": {
    "collapsed": false
   },
   "outputs": [],
   "source": [
    "y_temp = multi_df[categories].apply(lambda x: x.dropna().tolist(),axis=1).tolist()"
   ]
  },
  {
   "cell_type": "markdown",
   "metadata": {},
   "source": [
    "Let us see the distribution of labels which come up atleast once in all the queries"
   ]
  },
  {
   "cell_type": "code",
   "execution_count": 149,
   "metadata": {
    "collapsed": false,
    "scrolled": false
   },
   "outputs": [
    {
     "data": {
      "image/png": "[encoded data removed]",
      "text/plain": [
       "<matplotlib.figure.Figure at 0x1086b8f28>"
      ]
     },
     "metadata": {},
     "output_type": "display_data"
    }
   ],
   "source": [
    "from sklearn.preprocessing import LabelEncoder\n",
    "le = LabelEncoder()\n",
    "Y = le.fit_transform(multi_df.cat1)\n",
    "plt.hist(Y, bins = np.arange(0,360))\n",
    "plt.show()"
   ]
  },
  {
   "cell_type": "code",
   "execution_count": 150,
   "metadata": {
    "collapsed": false
   },
   "outputs": [
    {
     "data": {
      "text/plain": [
       "'living with schizophrenia'"
      ]
     },
     "execution_count": 150,
     "metadata": {},
     "output_type": "execute_result"
    }
   ],
   "source": [
    "max_label = Y.argmax()\n",
    "le.inverse_transform(max_label)"
   ]
  },
  {
   "cell_type": "markdown",
   "metadata": {},
   "source": [
    "Most queries revolve around schizophrenia "
   ]
  },
  {
   "cell_type": "markdown",
   "metadata": {},
   "source": [
    "We define a function to clean and preprocess the text in the queries to feed to the countvectorizer(featurize the data) to get the independent variable x"
   ]
  },
  {
   "cell_type": "code",
   "execution_count": 12,
   "metadata": {
    "collapsed": false
   },
   "outputs": [],
   "source": [
    "import re\n",
    "def text_clean(multi_df):\n",
    "    temp_df = multi_df.copy()\n",
    "    # Remove hyperlinks\n",
    "    temp_df.text = temp_df.text.apply(lambda x:re.sub('https?:\\/\\/.*\\/\\w*', '',x))\n",
    "    # Remove hashtags\n",
    "    temp_df.text = temp_df.text.apply(lambda x:re.sub('#', '', x))\n",
    "    # Remove citations\n",
    "    temp_df.text = temp_df.text.apply(lambda x:re.sub('\\@\\w*', '',x))\n",
    "    # Remove tickers\n",
    "    temp_df.text = temp_df.text.apply(lambda x:re.sub('\\$\\w*', '', x))\n",
    "    # Remove multiple whitespace\n",
    "    temp_df.text = temp_df.text.apply(lambda x:re.sub('\\s+\\s+', ' ', x))\n",
    "    return temp_df"
   ]
  },
  {
   "cell_type": "markdown",
   "metadata": {},
   "source": [
    "*Create a new Dataframe using the above func*"
   ]
  },
  {
   "cell_type": "code",
   "execution_count": 13,
   "metadata": {
    "collapsed": false,
    "scrolled": true
   },
   "outputs": [],
   "source": [
    "Df = text_clean(multi_df)"
   ]
  },
  {
   "cell_type": "markdown",
   "metadata": {},
   "source": [
    "*Now we go on and stem(porter/snowball) the text in the query*"
   ]
  },
  {
   "cell_type": "code",
   "execution_count": 14,
   "metadata": {
    "collapsed": false
   },
   "outputs": [],
   "source": [
    "Df['text']=Df['text'].apply(lambda x : filter(None,x.split(\" \")))"
   ]
  },
  {
   "cell_type": "markdown",
   "metadata": {},
   "source": [
    "*Python assumes ASCII, which obviously fails on non-ASCII-characters so we set the encoding to utf-8.*"
   ]
  },
  {
   "cell_type": "code",
   "execution_count": 15,
   "metadata": {
    "collapsed": true
   },
   "outputs": [],
   "source": [
    "import sys\n",
    "reload(sys)\n",
    "sys.setdefaultencoding('utf-8')"
   ]
  },
  {
   "cell_type": "code",
   "execution_count": 16,
   "metadata": {
    "collapsed": true
   },
   "outputs": [],
   "source": [
    "from nltk.stem.snowball import SnowballStemmer\n",
    "stemmer = SnowballStemmer(\"english\")"
   ]
  },
  {
   "cell_type": "code",
   "execution_count": 17,
   "metadata": {
    "collapsed": false
   },
   "outputs": [],
   "source": [
    "from nltk.stem import PorterStemmer\n",
    "porter_stemmer = PorterStemmer()\n",
    "Df_snow = Df.copy()\n",
    "Df_port = Df.copy()\n",
    "Df_snow['text']=Df_snow['text'].apply(lambda x : [stemmer.stem(y) for y in x])\n",
    "Df_port.text = Df_port.text.apply(lambda x : [porter_stemmer.stem(y) for y in x])"
   ]
  },
  {
   "cell_type": "code",
   "execution_count": 18,
   "metadata": {
    "collapsed": true
   },
   "outputs": [],
   "source": [
    "Df['text']=Df['text'].apply(lambda x : \" \".join(x))\n",
    "Df_snow['text']=Df_snow['text'].apply(lambda x : \" \".join(x))\n",
    "Df_port['text']=Df_port['text'].apply(lambda x : \" \".join(x))"
   ]
  },
  {
   "cell_type": "markdown",
   "metadata": {},
   "source": [
    "Here we write a function to prepare the features and target values.\n",
    "y is a multilabeled binary sparse matrix of the shape (n_smaples,n_labels)\n",
    " X is of the shape (n_samples,n_features)"
   ]
  },
  {
   "cell_type": "code",
   "execution_count": 19,
   "metadata": {
    "collapsed": false
   },
   "outputs": [],
   "source": [
    "from sklearn.feature_extraction.text import CountVectorizer\n",
    "from sklearn.preprocessing import MultiLabelBinarizer\n",
    "def make_xy(multi_df, vectorizer=None):\n",
    "    if vectorizer is None:\n",
    "        vectorizer = CountVectorizer(stop_words='english',max_df=0.5)\n",
    "        # we dont use n_grams as it will increase the dimensionality and hence compromise on computational cost\n",
    "    X = vectorizer.fit_transform(multi_df.text)\n",
    "    X = X.tocsc()  # some versions of sklearn return COO format\n",
    "    mlb = MultiLabelBinarizer()\n",
    "    y = mlb.fit_transform(y_temp)#we use y_temp we got before to feed to the multilabel binarizer\n",
    "    return X, y"
   ]
  },
  {
   "cell_type": "markdown",
   "metadata": {},
   "source": [
    "*Using snowball stemming and getting X,y*"
   ]
  },
  {
   "cell_type": "code",
   "execution_count": 20,
   "metadata": {
    "collapsed": true
   },
   "outputs": [],
   "source": [
    "X,y = make_xy(Df_snow)"
   ]
  },
  {
   "cell_type": "code",
   "execution_count": 21,
   "metadata": {
    "collapsed": false
   },
   "outputs": [
    {
     "data": {
      "text/plain": [
       "(73897, 37950)"
      ]
     },
     "execution_count": 21,
     "metadata": {},
     "output_type": "execute_result"
    }
   ],
   "source": [
    "X.shape"
   ]
  },
  {
   "cell_type": "code",
   "execution_count": 22,
   "metadata": {
    "collapsed": false
   },
   "outputs": [
    {
     "data": {
      "text/plain": [
       "(73897L, 361L)"
      ]
     },
     "execution_count": 22,
     "metadata": {},
     "output_type": "execute_result"
    }
   ],
   "source": [
    "y.shape"
   ]
  },
  {
   "cell_type": "markdown",
   "metadata": {},
   "source": [
    "We define a baseline classifier here \n",
    "I use a Multinomial naive bayes classifier; this was my choice to reduce the computation time and make the model subsequently simpler and easier to implement and NB models are are a popular choice with text data specially spam classifiers."
   ]
  },
  {
   "cell_type": "markdown",
   "metadata": {},
   "source": [
    "*Defining a function to create a mask to get the train test split*"
   ]
  },
  {
   "cell_type": "code",
   "execution_count": 23,
   "metadata": {
    "collapsed": false
   },
   "outputs": [],
   "source": [
    "from sklearn.cross_validation import train_test_split\n",
    "def get_train_test_mask(trainSize=0.8):\n",
    "    itrain, itest = train_test_split(xrange(Df.shape[0]), train_size=trainSize)\n",
    "    mask=np.ones(Df.shape[0], dtype='int')\n",
    "    mask[itrain]=1\n",
    "    mask[itest]=0\n",
    "    mask = (mask==1)\n",
    "    return mask"
   ]
  },
  {
   "cell_type": "markdown",
   "metadata": {},
   "source": [
    "*Finally getting the baseline classifier*"
   ]
  },
  {
   "cell_type": "code",
   "execution_count": 24,
   "metadata": {
    "collapsed": false
   },
   "outputs": [
    {
     "data": {
      "text/plain": [
       "17.1579859786373"
      ]
     },
     "execution_count": 24,
     "metadata": {},
     "output_type": "execute_result"
    }
   ],
   "source": [
    "import timeit\n",
    "start = timeit.default_timer()\n",
    "from sklearn.multiclass import OneVsRestClassifier\n",
    "from sklearn.naive_bayes import MultinomialNB\n",
    "from sklearn.cross_validation import train_test_split\n",
    "clf = OneVsRestClassifier(MultinomialNB())\n",
    "mask = get_train_test_mask(trainSize=0.8)\n",
    "xtrain=X[mask]\n",
    "ytrain=y[mask]\n",
    "xtest=X[~mask]\n",
    "ytest=y[~mask]\n",
    "clf = clf.fit(xtrain,ytrain)\n",
    "stop = timeit.default_timer()\n",
    "stop - start"
   ]
  },
  {
   "cell_type": "code",
   "execution_count": 25,
   "metadata": {
    "collapsed": false
   },
   "outputs": [],
   "source": [
    "from sklearn import metrics\n",
    "y_train_pred = clf.predict(xtrain)\n",
    "y_test_pred = clf.predict(xtest)"
   ]
  },
  {
   "cell_type": "markdown",
   "metadata": {},
   "source": [
    "Now we evaluate the performance;\n",
    "We wont be focused solely on accuracy.\n",
    "\n",
    "We also should look at recall.\n",
    "\n",
    "It makes sense to look at the F score in this case and Jaccard similarity score as is frequently used with multilabel problems."
   ]
  },
  {
   "cell_type": "code",
   "execution_count": 26,
   "metadata": {
    "collapsed": false
   },
   "outputs": [
    {
     "data": {
      "text/plain": [
       "0.39445640033681023"
      ]
     },
     "execution_count": 26,
     "metadata": {},
     "output_type": "execute_result"
    }
   ],
   "source": [
    "metrics.jaccard_similarity_score(ytrain,y_train_pred)"
   ]
  },
  {
   "cell_type": "code",
   "execution_count": 27,
   "metadata": {
    "collapsed": false
   },
   "outputs": [
    {
     "data": {
      "text/plain": [
       "0.35309219505828576"
      ]
     },
     "execution_count": 27,
     "metadata": {},
     "output_type": "execute_result"
    }
   ],
   "source": [
    "metrics.jaccard_similarity_score(ytest,y_test_pred)"
   ]
  },
  {
   "cell_type": "code",
   "execution_count": 28,
   "metadata": {
    "collapsed": false
   },
   "outputs": [],
   "source": [
    "scores_train = metrics.precision_recall_fscore_support(ytrain,y_train_pred,average='samples')\n",
    "scores_test = metrics.precision_recall_fscore_support(ytest,y_test_pred,average='samples')"
   ]
  },
  {
   "cell_type": "code",
   "execution_count": 29,
   "metadata": {
    "collapsed": false
   },
   "outputs": [
    {
     "data": {
      "text/plain": [
       "(0.40993788700932493, 0.4514383905362811, 0.41652020366001297, None)"
      ]
     },
     "execution_count": 29,
     "metadata": {},
     "output_type": "execute_result"
    }
   ],
   "source": [
    "scores_train"
   ]
  },
  {
   "cell_type": "code",
   "execution_count": 30,
   "metadata": {
    "collapsed": false
   },
   "outputs": [
    {
     "data": {
      "text/plain": [
       "(0.36684224143350125, 0.40805480378890385, 0.37371008543843459, None)"
      ]
     },
     "execution_count": 30,
     "metadata": {},
     "output_type": "execute_result"
    }
   ],
   "source": [
    "scores_test"
   ]
  },
  {
   "cell_type": "markdown",
   "metadata": {},
   "source": [
    "#### So the baseline classifier gives a \n",
    "\n",
    "##### Jaccard similarity score of 0.35309219505828576\n",
    "\n",
    "##### Precision of 0.36684224143350125\n",
    "\n",
    "##### Recall of 0.40805480378890385\n",
    "\n",
    "##### F score of 0.37371008543843459 as seen on the test set\n",
    "\n",
    "However far from satisfactory statistically we seem to be making progress in the right direction"
   ]
  },
  {
   "cell_type": "markdown",
   "metadata": {},
   "source": [
    "### Now we improve upon this baseline classifier"
   ]
  },
  {
   "cell_type": "markdown",
   "metadata": {},
   "source": [
    "Since we cant use grid serach CV here as we have to look the best min_df as well as the hyperparameter we loop over the parameters and find the optimal params"
   ]
  },
  {
   "cell_type": "markdown",
   "metadata": {},
   "source": [
    "We define a func cv_score to obtain the CV score for each pair of params "
   ]
  },
  {
   "cell_type": "code",
   "execution_count": 32,
   "metadata": {
    "collapsed": false
   },
   "outputs": [],
   "source": [
    "from sklearn.cross_validation import KFold\n",
    "def cv_score(clf, X, y):\n",
    "    result = 0.\n",
    "    nfold = 5\n",
    "    for train, test in KFold(y.shape[0], nfold): # split data into train/test groups, 5 times\n",
    "        clf.fit(X[train], y[train]) # fit\n",
    "        result = metrics.f1_score(y[test],clf.predict(X[test]),average='samples')\n",
    "    return result / nfold # average"
   ]
  },
  {
   "cell_type": "markdown",
   "metadata": {},
   "source": [
    "*Looping over the params to get our hyperparams*"
   ]
  },
  {
   "cell_type": "code",
   "execution_count": 33,
   "metadata": {
    "collapsed": false
   },
   "outputs": [],
   "source": [
    "alphas = [0,0.1,1]\n",
    "min_dfs = [0.1,0.01,0.001,0.0001,0.00001]\n",
    "\n",
    "#Find the best value for alpha and min_df, and the best classifier\n",
    "best_alpha = None\n",
    "best_min_df = None\n",
    "maxscore=-np.inf\n",
    "# maxscore=np.inf\n",
    "for alpha in alphas:\n",
    "    for min_df in min_dfs:         \n",
    "        vectorizer = CountVectorizer(min_df = min_df,stop_words='english',max_df=0.5)       \n",
    "        Xthis, ythis = make_xy(Df_snow, vectorizer)\n",
    "        Xtrainthis=Xthis[mask]\n",
    "        ytrainthis=ythis[mask]\n",
    "        clf = OneVsRestClassifier(MultinomialNB(alpha=alpha))\n",
    "        cvscore = cv_score(clf, Xtrainthis, ytrainthis)\n",
    "        if cvscore > maxscore:\n",
    "            maxscore = cvscore\n",
    "            best_alpha, best_min_df = alpha, min_df"
   ]
  },
  {
   "cell_type": "code",
   "execution_count": 34,
   "metadata": {
    "collapsed": false
   },
   "outputs": [
    {
     "data": {
      "text/plain": [
       "0.1"
      ]
     },
     "execution_count": 34,
     "metadata": {},
     "output_type": "execute_result"
    }
   ],
   "source": [
    "best_alpha"
   ]
  },
  {
   "cell_type": "code",
   "execution_count": 35,
   "metadata": {
    "collapsed": false
   },
   "outputs": [
    {
     "data": {
      "text/plain": [
       "0.0001"
      ]
     },
     "execution_count": 35,
     "metadata": {},
     "output_type": "execute_result"
    }
   ],
   "source": [
    "best_min_df"
   ]
  },
  {
   "cell_type": "markdown",
   "metadata": {},
   "source": [
    "So we get alpha as 0.1 and min_df as 0.0001"
   ]
  },
  {
   "cell_type": "markdown",
   "metadata": {},
   "source": [
    "Now we train over the whole training set with the best hyper params"
   ]
  },
  {
   "cell_type": "code",
   "execution_count": 36,
   "metadata": {
    "collapsed": false
   },
   "outputs": [],
   "source": [
    "vectorizer = CountVectorizer(min_df=best_min_df,stop_words='english',max_df=0.5)\n",
    "X, y = make_xy(Df_snow, vectorizer)\n",
    "xtrain=X[mask]\n",
    "ytrain=y[mask]\n",
    "xtest=X[~mask]\n",
    "ytest=y[~mask]\n",
    "\n",
    "clf = OneVsRestClassifier(MultinomialNB(alpha=best_alpha)).fit(xtrain, ytrain)"
   ]
  },
  {
   "cell_type": "markdown",
   "metadata": {},
   "source": [
    "Get the evaluation metrics for the new classifier"
   ]
  },
  {
   "cell_type": "code",
   "execution_count": 37,
   "metadata": {
    "collapsed": false
   },
   "outputs": [],
   "source": [
    "y_train_pred = clf.predict(xtrain)\n",
    "y_test_pred = clf.predict(xtest)\n",
    "scores_train = metrics.precision_recall_fscore_support(ytrain,y_train_pred,average='samples')\n",
    "scores_test = metrics.precision_recall_fscore_support(ytest,y_test_pred,average='samples')"
   ]
  },
  {
   "cell_type": "code",
   "execution_count": 38,
   "metadata": {
    "collapsed": false
   },
   "outputs": [
    {
     "data": {
      "text/plain": [
       "0.48799666430329097"
      ]
     },
     "execution_count": 38,
     "metadata": {},
     "output_type": "execute_result"
    }
   ],
   "source": [
    "metrics.jaccard_similarity_score(ytrain,y_train_pred)"
   ]
  },
  {
   "cell_type": "code",
   "execution_count": 39,
   "metadata": {
    "collapsed": false
   },
   "outputs": [
    {
     "data": {
      "text/plain": [
       "0.40198692258169882"
      ]
     },
     "execution_count": 39,
     "metadata": {},
     "output_type": "execute_result"
    }
   ],
   "source": [
    "metrics.jaccard_similarity_score(ytest,y_test_pred)"
   ]
  },
  {
   "cell_type": "code",
   "execution_count": 40,
   "metadata": {
    "collapsed": false
   },
   "outputs": [],
   "source": [
    "ovr_jaccard_score = metrics.jaccard_similarity_score(ytest,y_test_pred)"
   ]
  },
  {
   "cell_type": "code",
   "execution_count": 127,
   "metadata": {
    "collapsed": true
   },
   "outputs": [],
   "source": [
    "ovr_fscore = metrics.f1_score(ytest,y_test_pred,average='samples')"
   ]
  },
  {
   "cell_type": "code",
   "execution_count": 42,
   "metadata": {
    "collapsed": false
   },
   "outputs": [
    {
     "data": {
      "text/plain": [
       "(0.49841010201069957, 0.89434003755264979, 0.58735462030406493, None)"
      ]
     },
     "execution_count": 42,
     "metadata": {},
     "output_type": "execute_result"
    }
   ],
   "source": [
    "scores_train"
   ]
  },
  {
   "cell_type": "code",
   "execution_count": 43,
   "metadata": {
    "collapsed": false
   },
   "outputs": [
    {
     "data": {
      "text/plain": [
       "(0.41473092942036582, 0.74316080288678388, 0.48661814523842578, None)"
      ]
     },
     "execution_count": 43,
     "metadata": {},
     "output_type": "execute_result"
    }
   ],
   "source": [
    "scores_test"
   ]
  },
  {
   "cell_type": "markdown",
   "metadata": {},
   "source": [
    "#### So the new classifier gives a \n",
    "\n",
    "##### Jaccard similarity score of 0.40198692258169882\n",
    "\n",
    "##### Precision of 0.41473092942036582\n",
    "\n",
    "##### Recall of 0.74316080288678388\n",
    "\n",
    "##### F score of 0.48661814523842578 as seen on the test set \n",
    "\n",
    "This classifier outperforms the baseline classifier."
   ]
  },
  {
   "cell_type": "markdown",
   "metadata": {},
   "source": [
    "Now lets try and use an ensemble of these models using a Classifier Chain to further improve the performance"
   ]
  },
  {
   "cell_type": "code",
   "execution_count": 131,
   "metadata": {
    "collapsed": false
   },
   "outputs": [],
   "source": [
    "from sklearn.multioutput import ClassifierChain\n",
    "chains = [ClassifierChain(MultinomialNB(alpha=best_alpha), order='random', random_state=i) for i in range(10)]\n",
    "for chain in chains:\n",
    "    chain.fit(xtrain,ytrain)\n",
    "\n",
    "Y_pred_chains = np.array([chain.predict(xtest) for chain in chains])\n",
    "chain_jaccard_scores = [metrics.jaccard_similarity_score(ytest, Y_pred_chain) for Y_pred_chain in Y_pred_chains]\n",
    "chain_fscores =  [metrics.f1_score(ytest, Y_pred_chain,average='samples') for Y_pred_chain in Y_pred_chains]\n",
    "Y_pred_ensemble = Y_pred_chains.mean(axis=0)\n",
    "ensemble_jaccard_score = metrics.jaccard_similarity_score(ytest,Y_pred_ensemble>0.5)\n",
    "ensemble_fscore = metrics.f1_score(ytest,Y_pred_ensemble>0.5,average='samples')"
   ]
  },
  {
   "cell_type": "code",
   "execution_count": 132,
   "metadata": {
    "collapsed": false
   },
   "outputs": [
    {
     "data": {
      "image/png": "[encoded data removed]",
      "text/plain": [
       "<matplotlib.figure.Figure at 0x176f96a0>"
      ]
     },
     "metadata": {},
     "output_type": "display_data"
    }
   ],
   "source": [
    "model_jaccard_scores = [ovr_jaccard_score] + chain_jaccard_scores\n",
    "model_fscores = [ovr_fscore] + chain_fscores\n",
    "model_jaccard_scores.append(ensemble_jaccard_score)\n",
    "model_fscores.append(ensemble_fscore)\n",
    "model_names = ('Independent',\n",
    "               'Chain 1',\n",
    "               'Chain 2',\n",
    "               'Chain 3',\n",
    "               'Chain 4',\n",
    "               'Chain 5',\n",
    "               'Chain 6',\n",
    "               'Chain 7',\n",
    "               'Chain 8',\n",
    "               'Chain 9',\n",
    "               'Chain 10',\n",
    "               'Ensemble')\n",
    "\n",
    "x_pos = np.arange(len(model_names))\n",
    "\n",
    "# Plot the Jaccard similarity scores for the independent model, each of the\n",
    "# chains, and the ensemble (note that the vertical axis on this plot does\n",
    "# not begin at 0).\n",
    "\n",
    "fig, ax = plt.subplots(figsize=(8, 8))\n",
    "ax.grid(True)\n",
    "ax.set_title('Classifier Chain Ensemble Comparison(Jaccard Similarity)')\n",
    "ax.set_xticks(x_pos)\n",
    "ax.set_xticklabels(model_names, rotation='vertical')\n",
    "ax.set_ylabel('Jaccard Similarity Score')\n",
    "ax.set_ylim([min(model_jaccard_scores) * .9, max(model_jaccard_scores) * 1.1])\n",
    "colors = ['r'] + ['b'] * len(chain_jaccard_scores) + ['g']\n",
    "ax.bar(x_pos, model_jaccard_scores, alpha=0.5, color=colors)\n",
    "plt.tight_layout()\n",
    "plt.show()"
   ]
  },
  {
   "cell_type": "code",
   "execution_count": 133,
   "metadata": {
    "collapsed": false
   },
   "outputs": [
    {
     "data": {
      "image/png": "[encoded data removed]",
      "text/plain": [
       "<matplotlib.figure.Figure at 0x173facc0>"
      ]
     },
     "metadata": {},
     "output_type": "display_data"
    }
   ],
   "source": [
    "# Plot the F scores for the independent model, each of the\n",
    "# chains, and the ensemble\n",
    "\n",
    "fig, ax = plt.subplots(figsize=(10, 8))\n",
    "ax.grid(True)\n",
    "ax.set_title('Classifier Chain Ensemble Performance Comparison(F-score)')\n",
    "ax.set_xticks(x_pos)\n",
    "ax.set_xticklabels(model_names, rotation='vertical')\n",
    "ax.set_ylabel('F Score')\n",
    "ax.set_ylim([min(model_fscores) * .9, max(model_fscores) * 1.1])\n",
    "colors = ['r'] + ['b'] * len(chain_fscores) + ['g']\n",
    "ax.bar(x_pos, model_fscores, alpha=0.5, color=colors)\n",
    "plt.tight_layout()\n",
    "plt.show()"
   ]
  },
  {
   "cell_type": "code",
   "execution_count": 134,
   "metadata": {
    "collapsed": false
   },
   "outputs": [
    {
     "data": {
      "text/plain": [
       "0.48190771327288207"
      ]
     },
     "execution_count": 134,
     "metadata": {},
     "output_type": "execute_result"
    }
   ],
   "source": [
    "ensemble_fscore"
   ]
  },
  {
   "cell_type": "code",
   "execution_count": 135,
   "metadata": {
    "collapsed": false
   },
   "outputs": [
    {
     "data": {
      "text/plain": [
       "0.39611049194665465"
      ]
     },
     "execution_count": 135,
     "metadata": {},
     "output_type": "execute_result"
    }
   ],
   "source": [
    "ensemble_jaccard_score"
   ]
  },
  {
   "cell_type": "code",
   "execution_count": 136,
   "metadata": {
    "collapsed": false
   },
   "outputs": [
    {
     "data": {
      "text/plain": [
       "0.48661814523842578"
      ]
     },
     "execution_count": 136,
     "metadata": {},
     "output_type": "execute_result"
    }
   ],
   "source": [
    "ovr_fscore"
   ]
  },
  {
   "cell_type": "code",
   "execution_count": 137,
   "metadata": {
    "collapsed": false
   },
   "outputs": [
    {
     "data": {
      "text/plain": [
       "0.40198692258169882"
      ]
     },
     "execution_count": 137,
     "metadata": {},
     "output_type": "execute_result"
    }
   ],
   "source": [
    "ovr_jaccard_score"
   ]
  },
  {
   "cell_type": "markdown",
   "metadata": {},
   "source": [
    "The ensemble fails to do better than the classifier we obtained after cross validating. Major reason for this being choosing the 0.5 threshold for each label\n",
    "\n",
    "In this implementation I leaned more towards implementing a simpler model which can be further scaled up using a better, more complex classifier with better features line ngrams; I avoided that here as it would have compromised on computional cost and time."
   ]
  },
  {
   "cell_type": "code",
   "execution_count": 138,
   "metadata": {
    "collapsed": false
   },
   "outputs": [],
   "source": [
    "def make_prediction(queries):\n",
    "    test = pd.DataFrame({'text':queries})\n",
    "    test = text_clean(test)# calling the text cleaning feature we defined before\n",
    "    # snowball stemming \n",
    "    test['text']=test['text'].apply(lambda x : filter(None,x.split(\" \")))\n",
    "    test['text']=test['text'].apply(lambda x : [stemmer.stem(y) for y in x])\n",
    "    test['text']=test['text'].apply(lambda x : \" \".join(x))\n",
    "    # using the vectorizer we defined earlier with best_min_df\n",
    "    x = vectorizer.transform(test.text)\n",
    "    x = x.tocsc()\n",
    "    mlb = MultiLabelBinarizer()\n",
    "    y = mlb.fit_transform(y_temp)\n",
    "    # using the classifier we trained using the best_alpha\n",
    "    test['labels'] = mlb.inverse_transform(clf.predict(x))\n",
    "    return test"
   ]
  },
  {
   "cell_type": "code",
   "execution_count": 161,
   "metadata": {
    "collapsed": false
   },
   "outputs": [
    {
     "data": {
      "text/html": [
       "<div>\n",
       "<style>\n",
       "    .dataframe thead tr:only-child th {\n",
       "        text-align: right;\n",
       "    }\n",
       "\n",
       "    .dataframe thead th {\n",
       "        text-align: left;\n",
       "    }\n",
       "\n",
       "    .dataframe tbody tr th {\n",
       "        vertical-align: top;\n",
       "    }\n",
       "</style>\n",
       "<table border=\"1\" class=\"dataframe\">\n",
       "  <thead>\n",
       "    <tr style=\"text-align: right;\">\n",
       "      <th></th>\n",
       "      <th>text</th>\n",
       "      <th>labels</th>\n",
       "    </tr>\n",
       "  </thead>\n",
       "  <tbody>\n",
       "    <tr>\n",
       "      <th>0</th>\n",
       "      <td>i am mental depress and anxious</td>\n",
       "      <td>(improving mental health, overcoming anxiety a...</td>\n",
       "    </tr>\n",
       "    <tr>\n",
       "      <th>1</th>\n",
       "      <td>i have gastric ulcer</td>\n",
       "      <td>(treating gastroenteritis (adults), treating p...</td>\n",
       "    </tr>\n",
       "    <tr>\n",
       "      <th>2</th>\n",
       "      <td>i have asthma</td>\n",
       "      <td>(living with asthma,)</td>\n",
       "    </tr>\n",
       "    <tr>\n",
       "      <th>3</th>\n",
       "      <td>i have bad teeth</td>\n",
       "      <td>(improving oral &amp; dental health,)</td>\n",
       "    </tr>\n",
       "    <tr>\n",
       "      <th>4</th>\n",
       "      <td>pain from wisdom tooth</td>\n",
       "      <td>(improving oral &amp; dental health,)</td>\n",
       "    </tr>\n",
       "  </tbody>\n",
       "</table>\n",
       "</div>"
      ],
      "text/plain": [
       "                              text                                             labels\n",
       "0  i am mental depress and anxious  (improving mental health, overcoming anxiety a...\n",
       "1             i have gastric ulcer  (treating gastroenteritis (adults), treating p...\n",
       "2                    i have asthma                              (living with asthma,)\n",
       "3                 i have bad teeth                  (improving oral & dental health,)\n",
       "4           pain from wisdom tooth                  (improving oral & dental health,)"
      ]
     },
     "execution_count": 161,
     "metadata": {},
     "output_type": "execute_result"
    }
   ],
   "source": [
    "q = ['i am mentally depressed and anxious','i have gastric ulcer','i have asthma','i have bad teeth','pain from wisdom tooth']\n",
    "make_prediction(q)"
   ]
  },
  {
   "cell_type": "markdown",
   "metadata": {},
   "source": [
    "There are many things worth trying but I couldnt do tue computaional limitations\n",
    "- A model which uses n-grams(1,3) as features although it increases the sparsity of the input.\n",
    "- A model other than NB like random forest which allow interaction between words.\n",
    "- Another new interesting model to try would be supervised or labelled LDA."
   ]
  }
 ],
 "metadata": {
  "kernelspec": {
   "display_name": "Python 2",
   "language": "python",
   "name": "python2"
  },
  "language_info": {
   "codemirror_mode": {
    "name": "ipython",
    "version": 2
   },
   "file_extension": ".py",
   "mimetype": "text/x-python",
   "name": "python",
   "nbconvert_exporter": "python",
   "pygments_lexer": "ipython2",
   "version": "2.7.12"
  }
 },
 "nbformat": 4,
 "nbformat_minor": 2
}
